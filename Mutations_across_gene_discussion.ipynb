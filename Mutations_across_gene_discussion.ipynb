{
 "cells": [
  {
   "cell_type": "markdown",
   "metadata": {},
   "source": [
    "# Setup"
   ]
  },
  {
   "cell_type": "code",
   "execution_count": 1,
   "metadata": {
    "ExecuteTime": {
     "end_time": "2020-03-30T15:50:29.284874Z",
     "start_time": "2020-03-30T15:50:28.612404Z"
    }
   },
   "outputs": [],
   "source": [
    "import os\n",
    "import numpy as np\n",
    "import pandas as pd\n",
    "import matplotlib.pyplot as plt\n",
    "%matplotlib inline"
   ]
  },
  {
   "cell_type": "code",
   "execution_count": 2,
   "metadata": {
    "ExecuteTime": {
     "end_time": "2020-03-30T15:50:31.307836Z",
     "start_time": "2020-03-30T15:50:29.286976Z"
    }
   },
   "outputs": [],
   "source": [
    "from darwinian_shift import DarwinianShift, GlobalKmerSpectrum, CDFPermutationTest, ChiSquareTest, EvenMutationalSpectrum\n",
    "from darwinian_shift.lookup_classes import DummyValuesRandom\n",
    "from darwinian_shift import hide_top_and_right_axes"
   ]
  },
  {
   "cell_type": "code",
   "execution_count": 3,
   "metadata": {
    "ExecuteTime": {
     "end_time": "2020-03-30T15:50:34.704965Z",
     "start_time": "2020-03-30T15:50:31.311066Z"
    }
   },
   "outputs": [],
   "source": [
    "# Load data\n",
    "data = pd.read_excel(\"aau3879_TableS2.xlsx\", skiprows=17, sheet_name='Mutations_collapsed_by_distance')"
   ]
  },
  {
   "cell_type": "code",
   "execution_count": 4,
   "metadata": {
    "ExecuteTime": {
     "end_time": "2020-03-30T15:50:34.716293Z",
     "start_time": "2020-03-30T15:50:34.708728Z"
    }
   },
   "outputs": [],
   "source": [
    "# Colours\n",
    "\n",
    "unobserved_colour = '#636363'\n",
    "observed_colour = '#EE7733'\n",
    "\n",
    "foldx_expected_colour = '#EE6677'\n",
    "foldx_observed_colour = '#CC3311'\n",
    "\n",
    "interface_expected_colour = '#88CCEE'\n",
    "interface_observed_colour = '#0077BB'\n",
    "\n",
    "calcium_expected_colour = '#8DE0D7'\n",
    "calcium_observed_colour = '#009988'"
   ]
  },
  {
   "cell_type": "code",
   "execution_count": 5,
   "metadata": {
    "ExecuteTime": {
     "end_time": "2020-03-30T15:51:45.097868Z",
     "start_time": "2020-03-30T15:50:34.719566Z"
    }
   },
   "outputs": [],
   "source": [
    "# This calculates the mutational spectrum, sets up the statistical tests to use, and filters the data. \n",
    "d = DarwinianShift(\n",
    "    data=data, \n",
    "    source_genome='grch37',\n",
    "    # Define the spectrum to use\n",
    "    spectra=[GlobalKmerSpectrum(\n",
    "        k=3,  # Use a trinucleotide context,\n",
    "        ignore_strand=False,  # Reading strand of the protein matters, so have 192 different mutation types\n",
    "        deduplicate_spectrum=False,  # Do not remove duplicate mutations when calculating the spectrum\n",
    "        name=''  # Use a blank name, so in the plots it will just say \"Expected\"\n",
    "    )]\n",
    ")"
   ]
  },
  {
   "cell_type": "code",
   "execution_count": 6,
   "metadata": {
    "ExecuteTime": {
     "end_time": "2020-03-30T15:51:45.107790Z",
     "start_time": "2020-03-30T15:51:45.101500Z"
    }
   },
   "outputs": [],
   "source": [
    "plot_directory = \"./whole_notch_figures/\"\n",
    "if not os.path.exists(plot_directory):\n",
    "    os.makedirs(plot_directory)"
   ]
  },
  {
   "cell_type": "markdown",
   "metadata": {},
   "source": [
    "# Missense mutations sliding window"
   ]
  },
  {
   "cell_type": "code",
   "execution_count": 7,
   "metadata": {
    "ExecuteTime": {
     "end_time": "2020-03-30T15:51:46.722017Z",
     "start_time": "2020-03-30T15:51:45.111280Z"
    }
   },
   "outputs": [],
   "source": [
    "notch1_missense = d.make_section({'transcript_id': 'ENST00000277541', 'included_mutation_types': 'missense'})"
   ]
  },
  {
   "cell_type": "code",
   "execution_count": 8,
   "metadata": {
    "ExecuteTime": {
     "end_time": "2020-03-30T15:51:48.040989Z",
     "start_time": "2020-03-30T15:51:46.727294Z"
    }
   },
   "outputs": [],
   "source": [
    "notch1_missense.load_section_mutations()"
   ]
  },
  {
   "cell_type": "code",
   "execution_count": 9,
   "metadata": {
    "ExecuteTime": {
     "end_time": "2020-03-30T15:51:51.568103Z",
     "start_time": "2020-03-30T15:51:48.044795Z"
    }
   },
   "outputs": [
    {
     "data": {
      "image/png": "[encoded data removed]",
      "text/plain": [
       "<Figure size 576x288 with 1 Axes>"
      ]
     },
     "metadata": {
      "needs_background": "light"
     },
     "output_type": "display_data"
    }
   ],
   "source": [
    "notch1_missense.plot_sliding_window(show_legend=False, colours=[observed_colour, unobserved_colour], \n",
    "                                   figsize=(8, 4), window_size=30, window_step=3)\n",
    "hide_top_and_right_axes()\n",
    "plt.savefig(os.path.join(plot_directory, 'notch1_missense_sliding_window.pdf'), transparent=True)"
   ]
  },
  {
   "cell_type": "markdown",
   "metadata": {},
   "source": [
    "# Testing synonymous mutation enrichment in EGF11-12"
   ]
  },
  {
   "cell_type": "code",
   "execution_count": 10,
   "metadata": {
    "ExecuteTime": {
     "end_time": "2020-03-30T15:51:51.579368Z",
     "start_time": "2020-03-30T15:51:51.573452Z"
    }
   },
   "outputs": [],
   "source": [
    "from darwinian_shift import SequenceDistanceLookup"
   ]
  },
  {
   "cell_type": "code",
   "execution_count": 11,
   "metadata": {
    "ExecuteTime": {
     "end_time": "2020-03-30T15:51:51.590764Z",
     "start_time": "2020-03-30T15:51:51.582277Z"
    }
   },
   "outputs": [],
   "source": [
    "section_definition_egf11_12 = {\n",
    "    'transcript_id': 'ENST00000277541', \n",
    "    'included_mutation_types': 'synonymous',\n",
    "    'target_selection': np.arange(412, 488)\n",
    "}"
   ]
  },
  {
   "cell_type": "code",
   "execution_count": 12,
   "metadata": {
    "ExecuteTime": {
     "end_time": "2020-03-30T15:51:51.601040Z",
     "start_time": "2020-03-30T15:51:51.594634Z"
    }
   },
   "outputs": [],
   "source": [
    "s = SequenceDistanceLookup(boolean=True)"
   ]
  },
  {
   "cell_type": "code",
   "execution_count": 13,
   "metadata": {
    "ExecuteTime": {
     "end_time": "2020-03-30T15:51:51.611794Z",
     "start_time": "2020-03-30T15:51:51.606339Z"
    }
   },
   "outputs": [],
   "source": [
    "d.change_lookup(s, inplace=True)"
   ]
  },
  {
   "cell_type": "code",
   "execution_count": 14,
   "metadata": {
    "ExecuteTime": {
     "end_time": "2020-03-30T15:51:51.623159Z",
     "start_time": "2020-03-30T15:51:51.614727Z"
    }
   },
   "outputs": [],
   "source": [
    "d.statistics = [CDFPermutationTest(num_permutations=100000, testing_random_seed=0), \n",
    "                ChiSquareTest(bins=[-1, 0.5, 1.5])]"
   ]
  },
  {
   "cell_type": "code",
   "execution_count": 15,
   "metadata": {
    "ExecuteTime": {
     "end_time": "2020-03-30T15:51:56.034136Z",
     "start_time": "2020-03-30T15:51:51.626380Z"
    }
   },
   "outputs": [],
   "source": [
    "notch1_synonymous = d.run_section(section_definition_egf11_12)"
   ]
  },
  {
   "cell_type": "code",
   "execution_count": 16,
   "metadata": {
    "ExecuteTime": {
     "end_time": "2020-03-30T15:51:56.394858Z",
     "start_time": "2020-03-30T15:51:56.037069Z"
    }
   },
   "outputs": [
    {
     "data": {
      "image/png": "[encoded data removed]",
      "text/plain": [
       "<Figure size 288x288 with 1 Axes>"
      ]
     },
     "metadata": {
      "needs_background": "light"
     },
     "output_type": "display_data"
    }
   ],
   "source": [
    "notch1_synonymous.plot_binned_counts(figsize=(4, 4), colours=[observed_colour, unobserved_colour], \n",
    "                                          show_legend=False)\n",
    "hide_top_and_right_axes()\n",
    "plt.title('')\n",
    "plt.xticks(plt.gca().get_xticks(), ['False', 'True'])\n",
    "plt.xlabel('In EGF11-12')\n",
    "plt.subplots_adjust(left=0.3, bottom=0.3, right=1, top=1)\n",
    "plt.savefig(os.path.join(plot_directory, 'notch1_synonymous_egf_bar_plot.pdf'), transparent=True)"
   ]
  },
  {
   "cell_type": "code",
   "execution_count": 17,
   "metadata": {
    "ExecuteTime": {
     "end_time": "2020-03-30T15:51:56.425258Z",
     "start_time": "2020-03-30T15:51:56.404770Z"
    }
   },
   "outputs": [
    {
     "data": {
      "text/plain": [
       "0.0011999880001199988"
      ]
     },
     "execution_count": 17,
     "metadata": {},
     "output_type": "execute_result"
    }
   ],
   "source": [
    "notch1_synonymous.get_results_dictionary()['CDF_perm__pvalue']"
   ]
  },
  {
   "cell_type": "code",
   "execution_count": 18,
   "metadata": {
    "ExecuteTime": {
     "end_time": "2020-03-30T15:51:56.447902Z",
     "start_time": "2020-03-30T15:51:56.429633Z"
    }
   },
   "outputs": [
    {
     "data": {
      "text/plain": [
       "31"
      ]
     },
     "execution_count": 18,
     "metadata": {},
     "output_type": "execute_result"
    }
   ],
   "source": [
    "notch1_synonymous.get_results_dictionary()['num_mutations']"
   ]
  },
  {
   "cell_type": "code",
   "execution_count": null,
   "metadata": {},
   "outputs": [],
   "source": []
  }
 ],
 "metadata": {
  "kernelspec": {
   "display_name": "Python 3",
   "language": "python",
   "name": "python3"
  },
  "language_info": {
   "codemirror_mode": {
    "name": "ipython",
    "version": 3
   },
   "file_extension": ".py",
   "mimetype": "text/x-python",
   "name": "python",
   "nbconvert_exporter": "python",
   "pygments_lexer": "ipython3",
   "version": "3.7.3"
  }
 },
 "nbformat": 4,
 "nbformat_minor": 2
}
