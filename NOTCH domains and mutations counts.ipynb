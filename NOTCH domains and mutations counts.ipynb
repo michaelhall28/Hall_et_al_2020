{
 "cells": [
  {
   "cell_type": "markdown",
   "metadata": {},
   "source": [
    "# Imports and setup"
   ]
  },
  {
   "cell_type": "code",
   "execution_count": 1,
   "metadata": {
    "ExecuteTime": {
     "end_time": "2020-03-30T10:08:23.570936Z",
     "start_time": "2020-03-30T10:08:22.888562Z"
    }
   },
   "outputs": [],
   "source": [
    "import numpy as np\n",
    "import pandas as pd\n",
    "import matplotlib.pyplot as plt\n",
    "%matplotlib inline\n",
    "import matplotlib\n",
    "matplotlib.rcParams['figure.figsize'] = [8, 6]"
   ]
  },
  {
   "cell_type": "code",
   "execution_count": 2,
   "metadata": {
    "ExecuteTime": {
     "end_time": "2020-03-30T10:08:25.610908Z",
     "start_time": "2020-03-30T10:08:23.573030Z"
    }
   },
   "outputs": [],
   "source": [
    "import os\n",
    "from darwinian_shift import DarwinianShift, EvenMutationalSpectrum, UniprotLookup\n",
    "from darwinian_shift import plot_domain_structure, get_bins_for_uniprot_features, hide_top_and_right_axes"
   ]
  },
  {
   "cell_type": "code",
   "execution_count": 3,
   "metadata": {
    "ExecuteTime": {
     "end_time": "2020-03-30T10:08:25.617830Z",
     "start_time": "2020-03-30T10:08:25.614134Z"
    }
   },
   "outputs": [],
   "source": [
    "plot_directory=\"./whole_notch_figures/\"\n",
    "if not os.path.exists(plot_directory):\n",
    "    os.makedirs(plot_directory)"
   ]
  },
  {
   "cell_type": "code",
   "execution_count": 4,
   "metadata": {
    "ExecuteTime": {
     "end_time": "2020-03-30T10:08:25.625020Z",
     "start_time": "2020-03-30T10:08:25.620518Z"
    }
   },
   "outputs": [],
   "source": [
    "# Colours \n",
    "egf_colour = '#88CCEE'\n",
    "egf_11_12_colour = '#0077BB'\n",
    "LNR_colour = '#EE7733'\n",
    "ANK_colour = '#009988'\n",
    "transmembrane_colour = '#CC3311'\n",
    "non_domain_colour = '#BBBBBB'"
   ]
  },
  {
   "cell_type": "code",
   "execution_count": 5,
   "metadata": {
    "ExecuteTime": {
     "end_time": "2020-03-30T10:08:28.201392Z",
     "start_time": "2020-03-30T10:08:25.627862Z"
    }
   },
   "outputs": [],
   "source": [
    "data = pd.read_excel(\"aau3879_TableS2.xlsx\", skiprows=17, sheet_name='Mutations_collapsed_by_distance')"
   ]
  },
  {
   "cell_type": "code",
   "execution_count": 6,
   "metadata": {
    "ExecuteTime": {
     "end_time": "2020-03-30T10:08:33.958386Z",
     "start_time": "2020-03-30T10:08:28.203987Z"
    }
   },
   "outputs": [],
   "source": [
    "d = DarwinianShift(\n",
    "    data=data, \n",
    "    source_genome='grch37',\n",
    "    \n",
    "    # Not using a spectrum for any tests here, so can save time by using one that doesn't need calculating \n",
    "    spectra=EvenMutationalSpectrum(),  \n",
    "    \n",
    "    # Just want the missense mutations.\n",
    "    included_mutation_types='missense'\n",
    ")"
   ]
  },
  {
   "cell_type": "code",
   "execution_count": 7,
   "metadata": {
    "ExecuteTime": {
     "end_time": "2020-03-30T10:08:34.573066Z",
     "start_time": "2020-03-30T10:08:33.960921Z"
    }
   },
   "outputs": [],
   "source": [
    "# Use uniprot data to define domain boundaries\n",
    "u = UniprotLookup(uniprot_directory=\".\",\n",
    "                 transcript_uniprot_mapping={'ENST00000277541': 'P46531'}  # Must manually define the correct mapping for NOTCH1\n",
    "                 )"
   ]
  },
  {
   "cell_type": "markdown",
   "metadata": {},
   "source": [
    "# NOTCH1"
   ]
  },
  {
   "cell_type": "code",
   "execution_count": 8,
   "metadata": {
    "ExecuteTime": {
     "end_time": "2020-03-30T10:08:38.486988Z",
     "start_time": "2020-03-30T10:08:34.577127Z"
    }
   },
   "outputs": [],
   "source": [
    "s = d.make_section_from_gene_name(gene='NOTCH1')\n",
    "s.load_section_mutations()"
   ]
  },
  {
   "cell_type": "code",
   "execution_count": 9,
   "metadata": {
    "ExecuteTime": {
     "end_time": "2020-03-30T10:08:38.493818Z",
     "start_time": "2020-03-30T10:08:38.489531Z"
    }
   },
   "outputs": [],
   "source": [
    "last_residue = s.null_mutations['residue'].max()"
   ]
  },
  {
   "cell_type": "code",
   "execution_count": 10,
   "metadata": {
    "ExecuteTime": {
     "end_time": "2020-03-30T10:08:39.206717Z",
     "start_time": "2020-03-30T10:08:38.496496Z"
    }
   },
   "outputs": [],
   "source": [
    "NOTCH1_uniprot = u.get_uniprot_data('ENST00000277541')"
   ]
  },
  {
   "cell_type": "code",
   "execution_count": 11,
   "metadata": {
    "ExecuteTime": {
     "end_time": "2020-03-30T10:08:39.224028Z",
     "start_time": "2020-03-30T10:08:39.208609Z"
    }
   },
   "outputs": [],
   "source": [
    "bins, types, descriptions = get_bins_for_uniprot_features(NOTCH1_uniprot, min_gap=1, last_residue=last_residue)"
   ]
  },
  {
   "cell_type": "code",
   "execution_count": 12,
   "metadata": {
    "ExecuteTime": {
     "end_time": "2020-03-30T10:08:39.238208Z",
     "start_time": "2020-03-30T10:08:39.228088Z"
    }
   },
   "outputs": [],
   "source": [
    "colours = []\n",
    "for t, desc in zip(types, descriptions):\n",
    "    if desc in ['EGF-like 11; calcium-binding', 'EGF-like 12; calcium-binding']:\n",
    "        colours.append(egf_11_12_colour)\n",
    "    elif t == 'domain':\n",
    "        colours.append(egf_colour)\n",
    "    elif t == 'repeat':\n",
    "        if 'LNR' in desc:\n",
    "            colours.append(LNR_colour)\n",
    "        elif 'ANK' in desc:\n",
    "            colours.append(ANK_colour)\n",
    "    elif t == 'transmembrane region':\n",
    "        colours.append(transmembrane_colour)\n",
    "    elif t is None and desc is None:\n",
    "        colours.append(non_domain_colour)"
   ]
  },
  {
   "cell_type": "code",
   "execution_count": 13,
   "metadata": {
    "ExecuteTime": {
     "end_time": "2020-03-30T10:08:39.610194Z",
     "start_time": "2020-03-30T10:08:39.242602Z"
    }
   },
   "outputs": [
    {
     "data": {
      "image/png": "[encoded data removed]",
      "text/plain": [
       "<Figure size 720x216 with 1 Axes>"
      ]
     },
     "metadata": {
      "needs_background": "light"
     },
     "output_type": "display_data"
    }
   ],
   "source": [
    "# Without a bit of padding of the domains, we have some odd results. Maybe that is ok.\n",
    "s.plot_bar_observations(figsize=(10, 3), binning_regions=bins, \n",
    "             normalise_by_region_size=True, facecolour=colours, linewidth=1)\n",
    "plt.xlim([0, last_residue])\n",
    "hide_top_and_right_axes(plt.gca())\n",
    "plt.xticks([])\n",
    "plt.xlabel('')\n",
    "plt.savefig(os.path.join(plot_directory, 'notch1_domain_missense_mutation_counts.pdf'), transparent=True)"
   ]
  },
  {
   "cell_type": "code",
   "execution_count": 14,
   "metadata": {
    "ExecuteTime": {
     "end_time": "2020-03-30T10:08:39.818590Z",
     "start_time": "2020-03-30T10:08:39.623991Z"
    }
   },
   "outputs": [
    {
     "data": {
      "image/png": "[encoded data removed]",
      "text/plain": [
       "<Figure size 720x36 with 1 Axes>"
      ]
     },
     "metadata": {
      "needs_background": "light"
     },
     "output_type": "display_data"
    }
   ],
   "source": [
    "domain_colours = []\n",
    "for c in colours:\n",
    "    if c == non_domain_colour:\n",
    "        domain_colours.append(None)\n",
    "    else:\n",
    "        domain_colours.append(c)\n",
    "plot_domain_structure(bins, domain_colours, \n",
    "                      height=100, figsize=(10, 0.5))\n",
    "plt.xlim([0, last_residue]);\n",
    "plt.savefig(os.path.join(plot_directory, 'notch1_domain_plot.pdf'), transparent=True)"
   ]
  },
  {
   "cell_type": "markdown",
   "metadata": {},
   "source": [
    "# NOTCH2"
   ]
  },
  {
   "cell_type": "code",
   "execution_count": 15,
   "metadata": {
    "ExecuteTime": {
     "end_time": "2020-03-30T10:08:40.837596Z",
     "start_time": "2020-03-30T10:08:39.821360Z"
    }
   },
   "outputs": [],
   "source": [
    "NOTCH2_uniprot = u.get_uniprot_data('ENST00000256646')"
   ]
  },
  {
   "cell_type": "code",
   "execution_count": 16,
   "metadata": {
    "ExecuteTime": {
     "end_time": "2020-03-30T10:08:40.853150Z",
     "start_time": "2020-03-30T10:08:40.839758Z"
    }
   },
   "outputs": [],
   "source": [
    "bins, types, descriptions = get_bins_for_uniprot_features(NOTCH2_uniprot, min_gap=1, last_residue=last_residue)"
   ]
  },
  {
   "cell_type": "code",
   "execution_count": 17,
   "metadata": {
    "ExecuteTime": {
     "end_time": "2020-03-30T10:08:40.866410Z",
     "start_time": "2020-03-30T10:08:40.858561Z"
    }
   },
   "outputs": [],
   "source": [
    "colours = []\n",
    "for t, desc in zip(types, descriptions):\n",
    "    if desc in ['EGF-like 11; calcium-binding', 'EGF-like 12; calcium-binding']:\n",
    "        colours.append(egf_11_12_colour)\n",
    "    elif t == 'domain':\n",
    "        colours.append(egf_colour)\n",
    "    elif t == 'repeat':\n",
    "        if 'LNR' in desc:\n",
    "            colours.append(LNR_colour)\n",
    "        elif 'ANK' in desc:\n",
    "            colours.append(ANK_colour)\n",
    "    elif t == 'transmembrane region':\n",
    "        colours.append(transmembrane_colour)\n",
    "    elif t is None and desc is None:\n",
    "        colours.append(non_domain_colour)"
   ]
  },
  {
   "cell_type": "code",
   "execution_count": 18,
   "metadata": {
    "ExecuteTime": {
     "end_time": "2020-03-30T10:08:46.544495Z",
     "start_time": "2020-03-30T10:08:40.869238Z"
    }
   },
   "outputs": [],
   "source": [
    "s2 = d.make_section_from_gene_name(gene='NOTCH2')\n",
    "s2.load_section_mutations()"
   ]
  },
  {
   "cell_type": "code",
   "execution_count": 19,
   "metadata": {
    "ExecuteTime": {
     "end_time": "2020-03-30T10:08:46.921708Z",
     "start_time": "2020-03-30T10:08:46.546679Z"
    }
   },
   "outputs": [
    {
     "data": {
      "image/png": "[encoded data removed]",
      "text/plain": [
       "<Figure size 720x216 with 1 Axes>"
      ]
     },
     "metadata": {
      "needs_background": "light"
     },
     "output_type": "display_data"
    }
   ],
   "source": [
    "s2.plot_bar_observations(figsize=(10, 3), binning_regions=bins, \n",
    "             normalise_by_region_size=True, facecolour=colours, linewidth=1)\n",
    "plt.xlim([0, last_residue])\n",
    "hide_top_and_right_axes(plt.gca())\n",
    "plt.xticks([])\n",
    "plt.xlabel('')\n",
    "plt.savefig(os.path.join(plot_directory, 'notch2_domain_missense_mutation_counts.pdf'), transparent=True)"
   ]
  },
  {
   "cell_type": "code",
   "execution_count": 20,
   "metadata": {
    "ExecuteTime": {
     "end_time": "2020-03-30T10:08:47.102082Z",
     "start_time": "2020-03-30T10:08:46.925275Z"
    }
   },
   "outputs": [
    {
     "data": {
      "image/png": "[encoded data removed]",
      "text/plain": [
       "<Figure size 720x36 with 1 Axes>"
      ]
     },
     "metadata": {
      "needs_background": "light"
     },
     "output_type": "display_data"
    }
   ],
   "source": [
    "domain_colours = []\n",
    "for c in colours:\n",
    "    if c == non_domain_colour:\n",
    "        domain_colours.append(None)\n",
    "    else:\n",
    "        domain_colours.append(c)\n",
    "plot_domain_structure(bins, domain_colours, \n",
    "                      height=100, figsize=(10, 0.5))\n",
    "plt.xlim([0, last_residue]);\n",
    "plt.savefig(os.path.join(plot_directory, 'notch2_domain_plot.pdf'), transparent=True)"
   ]
  },
  {
   "cell_type": "code",
   "execution_count": null,
   "metadata": {},
   "outputs": [],
   "source": []
  }
 ],
 "metadata": {
  "kernelspec": {
   "display_name": "Python 3",
   "language": "python",
   "name": "python3"
  },
  "language_info": {
   "codemirror_mode": {
    "name": "ipython",
    "version": 3
   },
   "file_extension": ".py",
   "mimetype": "text/x-python",
   "name": "python",
   "nbconvert_exporter": "python",
   "pygments_lexer": "ipython3",
   "version": "3.7.3"
  }
 },
 "nbformat": 4,
 "nbformat_minor": 2
}
