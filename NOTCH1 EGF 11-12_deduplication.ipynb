{
 "cells": [
  {
   "cell_type": "markdown",
   "metadata": {},
   "source": [
    "# Imports"
   ]
  },
  {
   "cell_type": "code",
   "execution_count": 1,
   "metadata": {
    "ExecuteTime": {
     "end_time": "2020-03-31T09:52:10.659297Z",
     "start_time": "2020-03-31T09:52:09.540768Z"
    }
   },
   "outputs": [],
   "source": [
    "import os\n",
    "import numpy as np\n",
    "import pandas as pd\n",
    "import matplotlib.pyplot as plt\n",
    "%matplotlib inline"
   ]
  },
  {
   "cell_type": "code",
   "execution_count": 2,
   "metadata": {
    "ExecuteTime": {
     "end_time": "2020-03-31T09:52:14.181017Z",
     "start_time": "2020-03-31T09:52:10.661637Z"
    }
   },
   "outputs": [],
   "source": [
    "from darwinian_shift import DarwinianShift, GlobalKmerSpectrum\n",
    "from darwinian_shift import CDFPermutationTest, ChiSquareTest\n",
    "from darwinian_shift import FoldXLookup, SequenceDistanceLookup, MutationExclusionLookup, StructureDistanceLookup\n",
    "from darwinian_shift import MutationExclusionLookup, ORLookup\n",
    "from darwinian_shift import hide_top_and_right_axes"
   ]
  },
  {
   "cell_type": "code",
   "execution_count": 3,
   "metadata": {
    "ExecuteTime": {
     "end_time": "2020-03-31T09:52:14.206163Z",
     "start_time": "2020-03-31T09:52:14.196313Z"
    }
   },
   "outputs": [],
   "source": [
    "from darwinian_shift.utils.sifts_functions import get_sifts_alignment\n",
    "import os"
   ]
  },
  {
   "cell_type": "markdown",
   "metadata": {},
   "source": [
    "# Setup"
   ]
  },
  {
   "cell_type": "code",
   "execution_count": 4,
   "metadata": {
    "ExecuteTime": {
     "end_time": "2020-03-31T09:52:18.354832Z",
     "start_time": "2020-03-31T09:52:14.210561Z"
    }
   },
   "outputs": [],
   "source": [
    "# Load data\n",
    "data = pd.read_excel(\"aau3879_TableS2.xlsx\", skiprows=17, sheet_name='Mutations_collapsed_by_distance')"
   ]
  },
  {
   "cell_type": "code",
   "execution_count": 5,
   "metadata": {
    "ExecuteTime": {
     "end_time": "2020-03-31T09:52:18.366293Z",
     "start_time": "2020-03-31T09:52:18.357099Z"
    }
   },
   "outputs": [],
   "source": [
    "interface_residues = [413, 415, 418, 420, 421, 422, 423, 424, 425, \n",
    "                      435, 436, 444, 447, 448, 450, 451, 452, 454, \n",
    "                      466, 467, 468, 469, 470, 471, 475, 477, 478, \n",
    "                      479, 480]\n",
    "\n",
    "ca_binding_residues = [412, 413, 415, 431, 432, 435, 452, 453, 455, 469, 470]"
   ]
  },
  {
   "cell_type": "code",
   "execution_count": 6,
   "metadata": {
    "ExecuteTime": {
     "end_time": "2020-03-31T09:52:18.375883Z",
     "start_time": "2020-03-31T09:52:18.370159Z"
    }
   },
   "outputs": [],
   "source": [
    "# Define the region to test\n",
    "section_definition_egf11_12 = {\n",
    "    'transcript_id': 'ENST00000277541', 'pdb_id': '2vj3', 'pdb_chain': 'A', \n",
    "    'start': 412, 'end': 488, # Restrict to the residues in EGF11-12\n",
    "    'interface_residues': interface_residues,\n",
    "    'ca_binding_residues': ca_binding_residues\n",
    "}"
   ]
  },
  {
   "cell_type": "code",
   "execution_count": 7,
   "metadata": {
    "ExecuteTime": {
     "end_time": "2020-03-31T09:52:18.386750Z",
     "start_time": "2020-03-31T09:52:18.379179Z"
    }
   },
   "outputs": [],
   "source": [
    "# Define the mutational spectra\n",
    "spectra=[\n",
    "    GlobalKmerSpectrum(\n",
    "        k=3,  # Use a trinucleotide context,\n",
    "        ignore_strand=False,  # Transcribed strand of the protein matters, so have 192 different mutation types\n",
    "        deduplicate_spectrum=False,  # Do not remove duplicate mutations when calculating the spectrum\n",
    "        name='full' \n",
    "    ),\n",
    "    GlobalKmerSpectrum(\n",
    "        k=3,  # Use a trinucleotide context,\n",
    "        ignore_strand=False,  # Transcribed strand of the protein matters, so have 192 different mutation types\n",
    "        deduplicate_spectrum=True,  # SAME AS THE OTHER SPECTRUM, BUT WE REMOVE DUPLICATES.\n",
    "        name='dedup'\n",
    "    )\n",
    "]"
   ]
  },
  {
   "cell_type": "code",
   "execution_count": 8,
   "metadata": {
    "ExecuteTime": {
     "end_time": "2020-03-31T09:52:18.404476Z",
     "start_time": "2020-03-31T09:52:18.394655Z"
    }
   },
   "outputs": [],
   "source": [
    "# Define the statistical tests\n",
    "\n",
    "cdf_perm = CDFPermutationTest(num_permutations=100000, testing_random_seed=0)  # Used to calculate p-values\n",
    "\n",
    "chi_sq = ChiSquareTest(bins=[-0.1, 0.5, 1.1])  # Used to calculate counts for the discrete metrics\n",
    "\n",
    "stats = [cdf_perm, chi_sq]"
   ]
  },
  {
   "cell_type": "code",
   "execution_count": 9,
   "metadata": {
    "ExecuteTime": {
     "end_time": "2020-03-31T09:53:51.663736Z",
     "start_time": "2020-03-31T09:52:18.409896Z"
    }
   },
   "outputs": [],
   "source": [
    "# Make a DarwinianShift object to calculate the spectra. Do this with the full data. \n",
    "d_spec = DarwinianShift(\n",
    "    data=data, \n",
    "    source_genome='GRCh37',\n",
    "    spectra=spectra,\n",
    "    stats=stats,\n",
    "    \n",
    "    # Just test with the missense mutations. Nonsense and synonymous mutations are still used to calculate the spectrum\n",
    "    included_mutation_types='missense'\n",
    ")"
   ]
  },
  {
   "cell_type": "code",
   "execution_count": 10,
   "metadata": {
    "ExecuteTime": {
     "end_time": "2020-03-31T09:53:51.673058Z",
     "start_time": "2020-03-31T09:53:51.667917Z"
    }
   },
   "outputs": [],
   "source": [
    "for s in spectra:\n",
    "    s.fix_spectrum() # Prevents the spectra from being overwritten by the deduplicated data"
   ]
  },
  {
   "cell_type": "code",
   "execution_count": 11,
   "metadata": {
    "ExecuteTime": {
     "end_time": "2020-03-31T09:54:03.001896Z",
     "start_time": "2020-03-31T09:53:51.675774Z"
    }
   },
   "outputs": [],
   "source": [
    "# Now can make a DarwinianShift object with deduplicated data. \n",
    "# We use the spectra calculated previously.\n",
    "d = DarwinianShift(\n",
    "    data=data, \n",
    "    source_genome='GRCh37',\n",
    "    spectra=spectra,\n",
    "    stats=stats,\n",
    "    \n",
    "    # Now we deduplicate the mutations. \n",
    "    # Mutations with the same nucleotide change in the same position are only counted once, \n",
    "    # even if they appear in different individuals\n",
    "    deduplicate=True,  \n",
    "    \n",
    "    # Just test with the missense mutations. Nonsense and synonymous mutations are still used to calculate the spectrum\n",
    "    included_mutation_types='missense'\n",
    ")"
   ]
  },
  {
   "cell_type": "code",
   "execution_count": 12,
   "metadata": {
    "ExecuteTime": {
     "end_time": "2020-03-31T09:54:03.010663Z",
     "start_time": "2020-03-31T09:54:03.005413Z"
    }
   },
   "outputs": [],
   "source": [
    "plot_directory=\"./Supp_figures/\"\n",
    "if not os.path.exists(plot_directory):\n",
    "    os.makedirs(plot_directory)\n",
    "    \n",
    "sifts_directory=\".\"\n",
    "pdb_directory = \".\""
   ]
  },
  {
   "cell_type": "code",
   "execution_count": 13,
   "metadata": {
    "ExecuteTime": {
     "end_time": "2020-03-31T09:54:03.022730Z",
     "start_time": "2020-03-31T09:54:03.013831Z"
    }
   },
   "outputs": [],
   "source": [
    "# Colours\n",
    "\n",
    "unobserved_colour = '#BBBBBB' \n",
    "observed_colour = '#EE7733'\n",
    "\n",
    "foldx_expected_colour_full_spectrum = '#fcbba1' \n",
    "foldx_expected_colour_dedup_spectrum = '#EE6677'\n",
    "foldx_observed_colour = '#CC3311'\n",
    "\n",
    "interface_expected_colour_full_spectrum = '#DBEDFF'\n",
    "interface_expected_colour_dedup_spectrum = '#88CCEE'\n",
    "interface_observed_colour = '#0077BB'\n",
    "\n",
    "calcium_expected_colour_full_spectrum = '#E7F9F3'\n",
    "calcium_expected_colour_dedup_spectrum = '#8DE0D7'\n",
    "calcium_observed_colour = '#009988'"
   ]
  },
  {
   "cell_type": "markdown",
   "metadata": {},
   "source": [
    "# Toy example"
   ]
  },
  {
   "cell_type": "markdown",
   "metadata": {},
   "source": [
    "We show for a small example how a hotspot can lead to a significant result, even without a meaningful metric. "
   ]
  },
  {
   "cell_type": "code",
   "execution_count": 14,
   "metadata": {
    "ExecuteTime": {
     "end_time": "2020-03-31T09:54:03.077209Z",
     "start_time": "2020-03-31T09:54:03.025733Z"
    }
   },
   "outputs": [],
   "source": [
    "# Create some fake data from the real data\n",
    "# Get some NOTCH1 mutations from EGF11-12 \n",
    "# Remove hotspots, so we just have our own example to add. \n",
    "example_mutations = data[(data['gene'] == 'NOTCH1') & (data['pos'] >= 139411815) & (data['pos'] <= 139412610) & \n",
    "                       (data['impact'] == 'Missense')].drop_duplicates(subset=['chr', 'pos', 'ref', 'mut'])\n",
    "\n",
    "# Take 75 mutations at random\n",
    "example_mutations = example_mutations.sample(n=75, replace=False, random_state=0, axis=0)\n",
    "\n",
    "# Duplicate a single mutation so it appears 25 times\n",
    "hotspot = example_mutations.sample(n=1, random_state=1, axis=0)\n",
    "example_mutations = pd.concat([example_mutations] +[hotspot]*24)"
   ]
  },
  {
   "cell_type": "code",
   "execution_count": 15,
   "metadata": {
    "ExecuteTime": {
     "end_time": "2020-03-31T09:54:03.089056Z",
     "start_time": "2020-03-31T09:54:03.081304Z"
    }
   },
   "outputs": [],
   "source": [
    "# Make some fake scores\n",
    "class DummyScores:\n",
    "    # Score each unique mutation. \n",
    "    # Will make sure the score is consistent for the two tests. \n",
    "    # Set up using the null mutations for the region.\n",
    "    def __init__(self, null_data, name='Dummy Values'):\n",
    "        self.null_data = null_data\n",
    "        self.null_data['score'] = np.random.random(len(self.null_data))\n",
    "        self.name = name  # Will appear on some plot axes\n",
    "\n",
    "    def __call__(self, seq_object):\n",
    "        return self._get_scores(seq_object.null_mutations, seq_object.chrom)\n",
    "\n",
    "    def _get_scores(self, df, chrom):\n",
    "        merged_df = pd.merge(df, self.null_data,\n",
    "                             on=['pos', 'ref', 'mut'], how='left')\n",
    "        return merged_df['score']\n",
    "        "
   ]
  },
  {
   "cell_type": "code",
   "execution_count": 16,
   "metadata": {
    "ExecuteTime": {
     "end_time": "2020-03-31T09:54:06.411182Z",
     "start_time": "2020-03-31T09:54:03.092005Z"
    }
   },
   "outputs": [],
   "source": [
    "d_example = DarwinianShift(\n",
    "    data=example_mutations, \n",
    "    source_genome='GRCh37',\n",
    "    spectra=spectra[0],  # Use the precalculated spectra from the full data set\n",
    "    stats=stats,\n",
    "    \n",
    "    # Just test with the missense mutations. Nonsense and synonymous mutations are still used to calculate the spectrum\n",
    "    included_mutation_types='missense'\n",
    ")"
   ]
  },
  {
   "cell_type": "code",
   "execution_count": 17,
   "metadata": {
    "ExecuteTime": {
     "end_time": "2020-03-31T09:54:08.794332Z",
     "start_time": "2020-03-31T09:54:06.415939Z"
    }
   },
   "outputs": [],
   "source": [
    "# Generate a random score for each mutation.\n",
    "# First generate all possible mutations in the region\n",
    "section_for_null = d_example.make_section(section_definition_egf11_12)\n",
    "section_for_null.load_section_mutations()\n",
    "\n",
    "# Then generate a random score for each mutation.\n",
    "np.random.seed(0)\n",
    "random_score_generator = DummyScores(section_for_null.null_mutations)"
   ]
  },
  {
   "cell_type": "code",
   "execution_count": 18,
   "metadata": {
    "ExecuteTime": {
     "end_time": "2020-03-31T09:54:08.805025Z",
     "start_time": "2020-03-31T09:54:08.797402Z"
    }
   },
   "outputs": [],
   "source": [
    "d_example.change_lookup(random_score_generator, inplace=True)"
   ]
  },
  {
   "cell_type": "code",
   "execution_count": 19,
   "metadata": {
    "ExecuteTime": {
     "end_time": "2020-03-31T09:54:13.897958Z",
     "start_time": "2020-03-31T09:54:08.809148Z"
    }
   },
   "outputs": [],
   "source": [
    "s_example = d_example.run_section(section_definition_egf11_12)"
   ]
  },
  {
   "cell_type": "code",
   "execution_count": 20,
   "metadata": {
    "ExecuteTime": {
     "end_time": "2020-03-31T09:54:14.210261Z",
     "start_time": "2020-03-31T09:54:13.900949Z"
    }
   },
   "outputs": [
    {
     "data": {
      "image/png": "[encoded data removed]",
      "text/plain": [
       "<Figure size 432x216 with 1 Axes>"
      ]
     },
     "metadata": {},
     "output_type": "display_data"
    }
   ],
   "source": [
    "s_example.plot_scatter(figsize=(6, 3), show_legend=False, \n",
    "                    unobserved_mutation_colour=unobserved_colour, \n",
    "                    missense_mutation_colour=observed_colour, \n",
    "                    unmutated_marker_size=15, base_marker_size=15,\n",
    "                   )\n",
    "hide_top_and_right_axes()\n",
    "plt.xticks([])\n",
    "plt.yticks([])\n",
    "plt.tight_layout()\n",
    "plt.savefig(os.path.join(plot_directory, 'dedup_scatter_example.pdf'), transparent=True)"
   ]
  },
  {
   "cell_type": "code",
   "execution_count": 21,
   "metadata": {
    "ExecuteTime": {
     "end_time": "2020-03-31T09:54:14.415123Z",
     "start_time": "2020-03-31T09:54:14.216394Z"
    }
   },
   "outputs": [
    {
     "data": {
      "image/png": "[encoded data removed]",
      "text/plain": [
       "<Figure size 216x216 with 1 Axes>"
      ]
     },
     "metadata": {},
     "output_type": "display_data"
    }
   ],
   "source": [
    "s_example.plot_cdfs(figsize=(3, 3), colours=[observed_colour, unobserved_colour], show_legend=False, show_CI=False)\n",
    "hide_top_and_right_axes()\n",
    "plt.ylabel('CDF')\n",
    "plt.xticks([])\n",
    "plt.yticks([])\n",
    "plt.tight_layout()\n",
    "plt.savefig(os.path.join(plot_directory, 'dedup_cdf_example1.pdf'), transparent=True)"
   ]
  },
  {
   "cell_type": "code",
   "execution_count": 22,
   "metadata": {
    "ExecuteTime": {
     "end_time": "2020-03-31T09:54:14.430263Z",
     "start_time": "2020-03-31T09:54:14.420240Z"
    }
   },
   "outputs": [
    {
     "data": {
      "text/plain": [
       "0.004639953600463995"
      ]
     },
     "execution_count": 22,
     "metadata": {},
     "output_type": "execute_result"
    }
   ],
   "source": [
    "s_example.get_results_dictionary()['CDF_perm_full_pvalue']"
   ]
  },
  {
   "cell_type": "code",
   "execution_count": 23,
   "metadata": {
    "ExecuteTime": {
     "end_time": "2020-03-31T09:54:17.011453Z",
     "start_time": "2020-03-31T09:54:14.443873Z"
    }
   },
   "outputs": [],
   "source": [
    "d_example_dedup = DarwinianShift(\n",
    "    data=example_mutations, \n",
    "    source_genome='GRCh37',\n",
    "    spectra=spectra[0],  # Use the precalculated spectra from the full data set\n",
    "    stats=stats,\n",
    "    lookup=random_score_generator,  # Use the same random scores as above\n",
    "    \n",
    "    deduplicate=True,  # Now we only count the hotspot once\n",
    "    \n",
    "    # Just test with the missense mutations. Nonsense and synonymous mutations are still used to calculate the spectrum\n",
    "    included_mutation_types='missense'\n",
    ")"
   ]
  },
  {
   "cell_type": "code",
   "execution_count": 24,
   "metadata": {
    "ExecuteTime": {
     "end_time": "2020-03-31T09:54:21.888340Z",
     "start_time": "2020-03-31T09:54:17.017792Z"
    }
   },
   "outputs": [],
   "source": [
    "s_example_dedup = d_example_dedup.run_section(section_definition_egf11_12)"
   ]
  },
  {
   "cell_type": "code",
   "execution_count": 25,
   "metadata": {
    "ExecuteTime": {
     "end_time": "2020-03-31T09:54:22.090706Z",
     "start_time": "2020-03-31T09:54:21.890637Z"
    }
   },
   "outputs": [
    {
     "data": {
      "image/png": "[encoded data removed]",
      "text/plain": [
       "<Figure size 432x216 with 1 Axes>"
      ]
     },
     "metadata": {},
     "output_type": "display_data"
    }
   ],
   "source": [
    "s_example_dedup.plot_scatter(figsize=(6, 3), show_legend=False, \n",
    "                    unobserved_mutation_colour=unobserved_colour, \n",
    "                    missense_mutation_colour=observed_colour, \n",
    "                    unmutated_marker_size=15, base_marker_size=15,\n",
    "                   )\n",
    "hide_top_and_right_axes()\n",
    "plt.xticks([])\n",
    "plt.yticks([])\n",
    "plt.tight_layout()\n",
    "plt.savefig(os.path.join(plot_directory, 'dedup_scatter_example2.pdf'), transparent=True)"
   ]
  },
  {
   "cell_type": "code",
   "execution_count": 26,
   "metadata": {
    "ExecuteTime": {
     "end_time": "2020-03-31T09:54:22.245488Z",
     "start_time": "2020-03-31T09:54:22.097984Z"
    }
   },
   "outputs": [
    {
     "data": {
      "image/png": "[encoded data removed]",
      "text/plain": [
       "<Figure size 216x216 with 1 Axes>"
      ]
     },
     "metadata": {},
     "output_type": "display_data"
    }
   ],
   "source": [
    "s_example_dedup.plot_cdfs(figsize=(3, 3), \n",
    "                          colours=[observed_colour, unobserved_colour], show_legend=False, show_CI=False)\n",
    "hide_top_and_right_axes()\n",
    "plt.ylabel('CDF')\n",
    "plt.xticks([])\n",
    "plt.yticks([])\n",
    "plt.tight_layout()\n",
    "plt.savefig(os.path.join(plot_directory, 'dedup_cdf_example2.pdf'), transparent=True)"
   ]
  },
  {
   "cell_type": "code",
   "execution_count": 27,
   "metadata": {
    "ExecuteTime": {
     "end_time": "2020-03-31T09:54:22.260566Z",
     "start_time": "2020-03-31T09:54:22.251343Z"
    }
   },
   "outputs": [
    {
     "data": {
      "text/plain": [
       "0.2992770072299277"
      ]
     },
     "execution_count": 27,
     "metadata": {},
     "output_type": "execute_result"
    }
   ],
   "source": [
    "s_example_dedup.get_results_dictionary()['CDF_perm_full_pvalue']"
   ]
  },
  {
   "cell_type": "markdown",
   "metadata": {},
   "source": [
    "# FoldX"
   ]
  },
  {
   "cell_type": "code",
   "execution_count": 28,
   "metadata": {
    "ExecuteTime": {
     "end_time": "2020-03-31T09:54:22.273694Z",
     "start_time": "2020-03-31T09:54:22.265573Z"
    }
   },
   "outputs": [],
   "source": [
    "# Define the FoldX lookup\n",
    "fold = FoldXLookup(foldx_results_directory=\"/Users/mh28/Desktop/Data/FoldX_results/\",\n",
    "                      sifts_directory=sifts_directory,\n",
    "                      foldx_file_name_start=\"PS_f*\", download_sifts=True)"
   ]
  },
  {
   "cell_type": "code",
   "execution_count": 29,
   "metadata": {
    "ExecuteTime": {
     "end_time": "2020-03-31T09:54:22.296014Z",
     "start_time": "2020-03-31T09:54:22.278399Z"
    }
   },
   "outputs": [],
   "source": [
    "d_fold = d.change_lookup(fold)"
   ]
  },
  {
   "cell_type": "code",
   "execution_count": 30,
   "metadata": {
    "ExecuteTime": {
     "end_time": "2020-03-31T09:54:31.227149Z",
     "start_time": "2020-03-31T09:54:22.299118Z"
    }
   },
   "outputs": [],
   "source": [
    "s_fold = d_fold.run_section(section_definition_egf11_12)"
   ]
  },
  {
   "cell_type": "code",
   "execution_count": 31,
   "metadata": {
    "ExecuteTime": {
     "end_time": "2020-03-31T09:54:31.954369Z",
     "start_time": "2020-03-31T09:54:31.229410Z"
    }
   },
   "outputs": [
    {
     "data": {
      "image/png": "[encoded data removed]",
      "text/plain": [
       "<Figure size 432x216 with 1 Axes>"
      ]
     },
     "metadata": {
      "needs_background": "light"
     },
     "output_type": "display_data"
    }
   ],
   "source": [
    "s_fold.plot_scatter(figsize=(6, 3), plot_scale='symlog', show_legend=False, \n",
    "                    unobserved_mutation_colour=unobserved_colour, \n",
    "                    missense_mutation_colour=foldx_observed_colour, \n",
    "                    unmutated_marker_size=15, base_marker_size=15,\n",
    "                   )\n",
    "hide_top_and_right_axes()\n",
    "plt.tight_layout()\n",
    "plt.savefig(os.path.join(plot_directory, 'dedup_scatter_foldx_efg11_12.pdf'), transparent=True)"
   ]
  },
  {
   "cell_type": "code",
   "execution_count": 32,
   "metadata": {
    "ExecuteTime": {
     "end_time": "2020-03-31T09:54:41.236733Z",
     "start_time": "2020-03-31T09:54:31.957409Z"
    }
   },
   "outputs": [
    {
     "data": {
      "image/png": "[encoded data removed]",
      "text/plain": [
       "<Figure size 180x216 with 1 Axes>"
      ]
     },
     "metadata": {
      "needs_background": "light"
     },
     "output_type": "display_data"
    }
   ],
   "source": [
    "s_fold.plot_boxplot(figsize=(2.5, 3), plot_scale='symlog', \n",
    "                    colours=[foldx_observed_colour, foldx_expected_colour_full_spectrum, \n",
    "                             foldx_expected_colour_dedup_spectrum])\n",
    "plt.xticks(range(3), ['Exp.\\nfull', 'Exp.\\ndedup.', 'Obs.'])\n",
    "hide_top_and_right_axes()\n",
    "plt.tight_layout()\n",
    "plt.savefig(os.path.join(plot_directory, 'dedup_boxplot_foldx_efg11_12.pdf'), transparent=True)"
   ]
  },
  {
   "cell_type": "code",
   "execution_count": 33,
   "metadata": {
    "ExecuteTime": {
     "end_time": "2020-03-31T09:54:41.247547Z",
     "start_time": "2020-03-31T09:54:41.240492Z"
    }
   },
   "outputs": [],
   "source": [
    "s_fold_results = s_fold.get_results_dictionary()"
   ]
  },
  {
   "cell_type": "code",
   "execution_count": 34,
   "metadata": {
    "ExecuteTime": {
     "end_time": "2020-03-31T09:54:41.263351Z",
     "start_time": "2020-03-31T09:54:41.251743Z"
    }
   },
   "outputs": [
    {
     "data": {
      "text/plain": [
       "(1.999980000199998e-05, 1.999980000199998e-05)"
      ]
     },
     "execution_count": 34,
     "metadata": {},
     "output_type": "execute_result"
    }
   ],
   "source": [
    "s_fold_results['CDF_perm_full_pvalue'], s_fold_results['CDF_perm_dedup_pvalue']  # P-value of the Monte Carlo tests"
   ]
  },
  {
   "cell_type": "markdown",
   "metadata": {},
   "source": [
    "# Interface residues"
   ]
  },
  {
   "cell_type": "markdown",
   "metadata": {},
   "source": [
    "## Testing after excluding destabilising mutations"
   ]
  },
  {
   "cell_type": "markdown",
   "metadata": {},
   "source": [
    "We can use the FoldX lookup to exclude mutations that are highly destabilising.  \n",
    "We are then testing if, *out of the non-destabilising mutations*, there is a statistically significant enrichment of the mutations on the ligand binding interface.   \n",
    "\n",
    "We exclude the destabilising mutations from both the null hypothesis and the observed mutations so that the results are not skewed.  "
   ]
  },
  {
   "cell_type": "code",
   "execution_count": 35,
   "metadata": {
    "ExecuteTime": {
     "end_time": "2020-03-31T09:54:41.276866Z",
     "start_time": "2020-03-31T09:54:41.266445Z"
    }
   },
   "outputs": [],
   "source": [
    "# Define a lookup object which determines whether mutations are on the NOTCH1-ligand interface. \n",
    "interface_lookup = SequenceDistanceLookup(\n",
    "    boolean=True,   # Just a boolean on/off interface. \n",
    "    target_key='interface_residues',   # Use this entry in the section_definition dict to define the target residues\n",
    "    position_type='residue',   # Use the residue number (as opposed to cdspos or chromosomal position)\n",
    "    name='On interface'  # Label to appear on plot axes\n",
    ")\n",
    "\n",
    "# Define the combined lookup.\n",
    "excllook = MutationExclusionLookup(\n",
    "    lookup=interface_lookup,   # Use the interface lookup for the test\n",
    "    exclusion_lookup=fold,   # Use the foldX lookup to exlcude mutations that have large ∆∆G values \n",
    "    exclusion_threshold=2,  # Pick a threshold of 2kcal/mol \n",
    "    exclusion_direction=1,   # Exclude mutations with a ∆∆G score larger than the threshold.\n",
    "    name='On interface'\n",
    ")"
   ]
  },
  {
   "cell_type": "code",
   "execution_count": 36,
   "metadata": {
    "ExecuteTime": {
     "end_time": "2020-03-31T09:54:41.298013Z",
     "start_time": "2020-03-31T09:54:41.279668Z"
    }
   },
   "outputs": [],
   "source": [
    "d_interface2 = d.change_lookup(excllook)"
   ]
  },
  {
   "cell_type": "code",
   "execution_count": 37,
   "metadata": {
    "ExecuteTime": {
     "end_time": "2020-03-31T09:54:50.339337Z",
     "start_time": "2020-03-31T09:54:41.300907Z"
    }
   },
   "outputs": [],
   "source": [
    "s_interface2 = d_interface2.run_section(section_definition_egf11_12)"
   ]
  },
  {
   "cell_type": "code",
   "execution_count": 38,
   "metadata": {
    "ExecuteTime": {
     "end_time": "2020-03-31T09:54:50.749265Z",
     "start_time": "2020-03-31T09:54:50.342558Z"
    }
   },
   "outputs": [
    {
     "data": {
      "image/png": "[encoded data removed]",
      "text/plain": [
       "<Figure size 432x216 with 1 Axes>"
      ]
     },
     "metadata": {
      "needs_background": "light"
     },
     "output_type": "display_data"
    }
   ],
   "source": [
    "s_interface2.plot_scatter(figsize=(6, 3), show_legend=False, \n",
    "                         unobserved_mutation_colour=unobserved_colour, \n",
    "                          missense_mutation_colour=interface_observed_colour,\n",
    "                         base_marker_size=15, unmutated_marker_size=15)\n",
    "plt.yticks([0, 1], ['False', 'True']);\n",
    "hide_top_and_right_axes()\n",
    "plt.tight_layout()\n",
    "plt.savefig(os.path.join(plot_directory, 'dedup_scatter_interface2_efg11_12.pdf'), transparent=True)"
   ]
  },
  {
   "cell_type": "code",
   "execution_count": 39,
   "metadata": {
    "ExecuteTime": {
     "end_time": "2020-03-31T09:54:50.976848Z",
     "start_time": "2020-03-31T09:54:50.752842Z"
    }
   },
   "outputs": [
    {
     "data": {
      "image/png": "[encoded data removed]",
      "text/plain": [
       "<Figure size 216x288 with 1 Axes>"
      ]
     },
     "metadata": {
      "needs_background": "light"
     },
     "output_type": "display_data"
    }
   ],
   "source": [
    "s_interface2.plot_binned_counts_common_bins(figsize=(3, 4), show_legend=False, \n",
    "                                     colours=[interface_observed_colour, \n",
    "                                              interface_expected_colour_full_spectrum, \n",
    "                                              interface_expected_colour_dedup_spectrum], \n",
    "                               linewidth=1)\n",
    "plt.title('')\n",
    "hide_top_and_right_axes()\n",
    "plt.xticks(plt.gca().get_xticks(), ['False', 'True'])\n",
    "plt.xlabel('On interface')\n",
    "plt.subplots_adjust(left=0.3, bottom=0.3, right=1, top=1)\n",
    "plt.savefig(os.path.join(plot_directory, 'dedup_bar_interface2_efg11_12.pdf'), transparent=True)"
   ]
  },
  {
   "cell_type": "code",
   "execution_count": 40,
   "metadata": {
    "ExecuteTime": {
     "end_time": "2020-03-31T09:54:50.989470Z",
     "start_time": "2020-03-31T09:54:50.982693Z"
    }
   },
   "outputs": [],
   "source": [
    "s_interface2_results = s_interface2.get_results_dictionary()"
   ]
  },
  {
   "cell_type": "code",
   "execution_count": 41,
   "metadata": {
    "ExecuteTime": {
     "end_time": "2020-03-31T09:54:51.006542Z",
     "start_time": "2020-03-31T09:54:50.999017Z"
    }
   },
   "outputs": [
    {
     "data": {
      "text/plain": [
       "(0.0010999890001099988, 0.0008399916000839992)"
      ]
     },
     "execution_count": 41,
     "metadata": {},
     "output_type": "execute_result"
    }
   ],
   "source": [
    "# P-values of the Monte Carlo tests\n",
    "s_interface2_results['CDF_perm_full_pvalue'], s_interface2_results['CDF_perm_dedup_pvalue']    "
   ]
  },
  {
   "cell_type": "markdown",
   "metadata": {},
   "source": [
    "# Calcium binding residues"
   ]
  },
  {
   "cell_type": "code",
   "execution_count": 42,
   "metadata": {
    "ExecuteTime": {
     "end_time": "2020-03-31T09:54:51.021259Z",
     "start_time": "2020-03-31T09:54:51.013708Z"
    }
   },
   "outputs": [],
   "source": [
    "ca_lookup = SequenceDistanceLookup(\n",
    "    boolean=True,   # Just a boolean binding/not binding. \n",
    "    target_key='ca_binding_residues',   # Use this entry in the section_definition dict to define the target residues\n",
    "    position_type='residue',   # Use the residue number (as opposed to cdspos or chromosomal position)\n",
    "    name='Calcium binding'  # Label to appear on plot axes\n",
    ")"
   ]
  },
  {
   "cell_type": "markdown",
   "metadata": {},
   "source": [
    "## Testing after excluding destabilising and interface mutations"
   ]
  },
  {
   "cell_type": "code",
   "execution_count": 43,
   "metadata": {
    "ExecuteTime": {
     "end_time": "2020-03-31T09:54:51.035759Z",
     "start_time": "2020-03-31T09:54:51.027679Z"
    }
   },
   "outputs": [],
   "source": [
    "# First define a lookup that is 1 if the mutation is destabilising or on the interface and 0 otherwise.\n",
    "destabilising_or_interface_lookup = ORLookup(\n",
    "    lookups=[fold, interface_lookup],  # Use the FoldX and the interface lookups.  \n",
    "    thresholds=[2, 0.5],  # Again pick a threshold of 2kcal/mol for the FoldX result, interface results are either 0 or 1 so set threshold at 0.5. \n",
    "    directions=[1, 1],  # Want to exclude mutations with scores greater than the thresholds, so directions are both 1.\n",
    ")\n",
    "\n",
    "\n",
    "# Define the combined lookup.\n",
    "excllook2 = MutationExclusionLookup(\n",
    "    lookup=ca_lookup,   # Use the calcium binding lookup for the test\n",
    "    exclusion_lookup=destabilising_or_interface_lookup,   # Use the foldX lookup to exlcude mutations that have large ∆∆G values \n",
    "    exclusion_threshold=0.5,  #  Scores from the exclusion are either 0, or 1, so can put threshold anywhere in between.\n",
    "    exclusion_direction=1,   # Exclude mutations with a score above the exclusion_threhold from the exclusion_lookup.\n",
    "    name='Calcium binding'\n",
    ")"
   ]
  },
  {
   "cell_type": "code",
   "execution_count": 44,
   "metadata": {
    "ExecuteTime": {
     "end_time": "2020-03-31T09:54:51.055521Z",
     "start_time": "2020-03-31T09:54:51.039534Z"
    }
   },
   "outputs": [],
   "source": [
    "d_ca2 = d.change_lookup(excllook2)"
   ]
  },
  {
   "cell_type": "code",
   "execution_count": 45,
   "metadata": {
    "ExecuteTime": {
     "end_time": "2020-03-31T09:54:58.242376Z",
     "start_time": "2020-03-31T09:54:51.059095Z"
    }
   },
   "outputs": [],
   "source": [
    "s_ca2 = d_ca2.run_section(section_definition_egf11_12)"
   ]
  },
  {
   "cell_type": "code",
   "execution_count": 46,
   "metadata": {
    "ExecuteTime": {
     "end_time": "2020-03-31T09:54:58.696510Z",
     "start_time": "2020-03-31T09:54:58.247440Z"
    }
   },
   "outputs": [
    {
     "data": {
      "image/png": "[encoded data removed]",
      "text/plain": [
       "<Figure size 432x216 with 1 Axes>"
      ]
     },
     "metadata": {
      "needs_background": "light"
     },
     "output_type": "display_data"
    }
   ],
   "source": [
    "s_ca2.plot_scatter(figsize=(6, 3), show_legend=False, \n",
    "                  unobserved_mutation_colour=unobserved_colour, \n",
    "                   missense_mutation_colour=calcium_observed_colour,\n",
    "                  base_marker_size=15, unmutated_marker_size=15)\n",
    "plt.yticks([0, 1], ['False', 'True']);\n",
    "hide_top_and_right_axes()\n",
    "plt.tight_layout()\n",
    "plt.savefig(os.path.join(plot_directory, 'dedup_scatter_ca2_efg11_12.pdf'), transparent=True)"
   ]
  },
  {
   "cell_type": "code",
   "execution_count": 47,
   "metadata": {
    "ExecuteTime": {
     "end_time": "2020-03-31T09:54:59.492525Z",
     "start_time": "2020-03-31T09:54:58.722954Z"
    }
   },
   "outputs": [
    {
     "data": {
      "image/png": "[encoded data removed]",
      "text/plain": [
       "<Figure size 216x288 with 1 Axes>"
      ]
     },
     "metadata": {
      "needs_background": "light"
     },
     "output_type": "display_data"
    }
   ],
   "source": [
    "s_ca2.plot_binned_counts_common_bins(figsize=(3, 4), show_legend=False, \n",
    "                              colours=[calcium_observed_colour, \n",
    "                                       calcium_expected_colour_full_spectrum, \n",
    "                                      calcium_expected_colour_dedup_spectrum\n",
    "                                      ], linewidth=1\n",
    "                        )\n",
    "hide_top_and_right_axes()\n",
    "plt.title('')\n",
    "plt.xticks(plt.gca().get_xticks(), ['False', 'True'])\n",
    "plt.xlabel('Calcium binding')\n",
    "plt.subplots_adjust(left=0.3, bottom=0.3, right=1, top=1)\n",
    "plt.savefig(os.path.join(plot_directory, 'dedup_bar_ca2_efg11_12.pdf'), transparent=True)"
   ]
  },
  {
   "cell_type": "code",
   "execution_count": 48,
   "metadata": {
    "ExecuteTime": {
     "end_time": "2020-03-31T09:54:59.510632Z",
     "start_time": "2020-03-31T09:54:59.504234Z"
    }
   },
   "outputs": [],
   "source": [
    "s_ca2_results = s_ca2.get_results_dictionary()"
   ]
  },
  {
   "cell_type": "code",
   "execution_count": 49,
   "metadata": {
    "ExecuteTime": {
     "end_time": "2020-03-31T09:54:59.527995Z",
     "start_time": "2020-03-31T09:54:59.517727Z"
    }
   },
   "outputs": [
    {
     "data": {
      "text/plain": [
       "(0.018439815601843983, 0.02127978720212798)"
      ]
     },
     "execution_count": 49,
     "metadata": {},
     "output_type": "execute_result"
    }
   ],
   "source": [
    "# P-values of the Monte Carlo tests\n",
    "s_ca2_results['CDF_perm_full_pvalue'], s_ca2_results['CDF_perm_dedup_pvalue']    "
   ]
  },
  {
   "cell_type": "code",
   "execution_count": null,
   "metadata": {},
   "outputs": [],
   "source": []
  }
 ],
 "metadata": {
  "kernelspec": {
   "display_name": "Python 3",
   "language": "python",
   "name": "python3"
  },
  "language_info": {
   "codemirror_mode": {
    "name": "ipython",
    "version": 3
   },
   "file_extension": ".py",
   "mimetype": "text/x-python",
   "name": "python",
   "nbconvert_exporter": "python",
   "pygments_lexer": "ipython3",
   "version": "3.7.3"
  },
  "notify_time": "10"
 },
 "nbformat": 4,
 "nbformat_minor": 2
}
