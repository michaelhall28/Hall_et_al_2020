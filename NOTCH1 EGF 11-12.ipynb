{
 "cells": [
  {
   "cell_type": "markdown",
   "metadata": {},
   "source": [
    "# Imports"
   ]
  },
  {
   "cell_type": "code",
   "execution_count": 1,
   "metadata": {
    "ExecuteTime": {
     "end_time": "2020-03-31T09:51:28.018616Z",
     "start_time": "2020-03-31T09:51:20.330027Z"
    }
   },
   "outputs": [],
   "source": [
    "import os\n",
    "import numpy as np\n",
    "import pandas as pd\n",
    "import matplotlib.pyplot as plt\n",
    "%matplotlib inline"
   ]
  },
  {
   "cell_type": "code",
   "execution_count": 2,
   "metadata": {
    "ExecuteTime": {
     "end_time": "2020-03-31T09:51:39.028920Z",
     "start_time": "2020-03-31T09:51:28.021187Z"
    }
   },
   "outputs": [],
   "source": [
    "from darwinian_shift import DarwinianShift, GlobalKmerSpectrum, TranscriptKmerSpectrum, EvenMutationalSpectrum\n",
    "from darwinian_shift import CDFPermutationTest, ChiSquareTest, PermutationTest\n",
    "from darwinian_shift import FoldXLookup, SequenceDistanceLookup, MutationExclusionLookup, StructureDistanceLookup\n",
    "from darwinian_shift import MutationExclusionLookup, ORLookup\n",
    "from darwinian_shift import hide_top_and_right_axes"
   ]
  },
  {
   "cell_type": "code",
   "execution_count": 3,
   "metadata": {
    "ExecuteTime": {
     "end_time": "2020-03-31T09:51:39.035636Z",
     "start_time": "2020-03-31T09:51:39.031382Z"
    }
   },
   "outputs": [],
   "source": [
    "from darwinian_shift.additional_plotting_functions import plot_scatter_two_scores"
   ]
  },
  {
   "cell_type": "code",
   "execution_count": 4,
   "metadata": {
    "ExecuteTime": {
     "end_time": "2020-03-31T09:51:39.044102Z",
     "start_time": "2020-03-31T09:51:39.039053Z"
    }
   },
   "outputs": [],
   "source": [
    "from darwinian_shift.utils.sifts_functions import get_sifts_alignment\n",
    "import os"
   ]
  },
  {
   "cell_type": "markdown",
   "metadata": {},
   "source": [
    "# Setup"
   ]
  },
  {
   "cell_type": "code",
   "execution_count": 5,
   "metadata": {
    "ExecuteTime": {
     "end_time": "2020-03-31T09:51:42.604857Z",
     "start_time": "2020-03-31T09:51:39.047248Z"
    }
   },
   "outputs": [],
   "source": [
    "# Load data\n",
    "data = pd.read_excel(\"aau3879_TableS2.xlsx\", skiprows=17, sheet_name='Mutations_collapsed_by_distance')"
   ]
  },
  {
   "cell_type": "code",
   "execution_count": 6,
   "metadata": {
    "ExecuteTime": {
     "end_time": "2020-03-31T09:51:42.613299Z",
     "start_time": "2020-03-31T09:51:42.607868Z"
    }
   },
   "outputs": [],
   "source": [
    "# Define the region to test\n",
    "section_definition_egf11_12 = {\n",
    "    'transcript_id': 'ENST00000277541', 'pdb_id': '2vj3', 'pdb_chain': 'A', \n",
    "    'start': 412, 'end': 488 # Restrict to the residues in EGF11-12\n",
    "}"
   ]
  },
  {
   "cell_type": "code",
   "execution_count": 7,
   "metadata": {
    "ExecuteTime": {
     "end_time": "2020-03-31T09:51:42.634323Z",
     "start_time": "2020-03-31T09:51:42.617446Z"
    }
   },
   "outputs": [],
   "source": [
    "# Define the mutational spectra\n",
    "main_fig_spectrum=GlobalKmerSpectrum(\n",
    "        k=3,  # Use a trinucleotide context,\n",
    "        ignore_strand=False,  # Transcribed strand of the protein matters, so have 192 different mutation types\n",
    "        deduplicate_spectrum=False,  # Do not remove duplicate mutations when calculating the spectrum\n",
    "        name=''  # Use a blank name, so in the plots it will just say \"Expected\"\n",
    "    )\n",
    "\n",
    "supp_fig_spectra = [EvenMutationalSpectrum()]\n",
    "for glob in [1, 0]: # Global or per transcript spectrum\n",
    "    for k in [1, 3, 5]:  # Nucleotide context. No wider context, trinucleotide and pentanucleotide\n",
    "        for ignore_strand in [1, 0]:  # Combine transcribed/non-transcribed strand or not\n",
    "            for deduplicate_spectrum in [0, 1]:  # Don't/do remove duplicate mutations as these may be positively selected\n",
    "                num_rates = 6*4**(k-1)\n",
    "                if not ignore_strand:\n",
    "                    num_rates *= 2\n",
    "                if deduplicate_spectrum:\n",
    "                    dedup = '_dedup'\n",
    "                else:\n",
    "                    dedup = ''\n",
    "                \n",
    "                if glob:\n",
    "                    # Add a global spectrum (all genes assumed to have the same spectrum)\n",
    "                    supp_fig_spectra.append(GlobalKmerSpectrum(\n",
    "                        k=k, ignore_strand=ignore_strand, deduplicate_spectrum=deduplicate_spectrum, \n",
    "                        # Spectra need unique names for creation of dataframe columns\n",
    "                        name='global_{}{}'.format(num_rates, dedup) \n",
    "                    ))\n",
    "                else:\n",
    "                    # Add transcript spectrum (all transcripts assumed to have their own unique spectrum)\n",
    "                    supp_fig_spectra.append(TranscriptKmerSpectrum(\n",
    "                        k=k, ignore_strand=ignore_strand, deduplicate_spectrum=deduplicate_spectrum, \n",
    "                        # Spectra need unique names for creation of dataframe columns\n",
    "                        name='transcript_{}{}'.format(num_rates, dedup)\n",
    "                    ))\n",
    "\n",
    "spectra = [main_fig_spectrum] + supp_fig_spectra"
   ]
  },
  {
   "cell_type": "code",
   "execution_count": 8,
   "metadata": {
    "ExecuteTime": {
     "end_time": "2020-03-31T09:51:42.651527Z",
     "start_time": "2020-03-31T09:51:42.643039Z"
    }
   },
   "outputs": [],
   "source": [
    "# Define the statistical tests\n",
    "\n",
    "cdf_perm = CDFPermutationTest(num_permutations=100000, testing_random_seed=0)  # Used to calculate main text p-values\n",
    "\n",
    "# Define alternative permutation tests using mean and median instead of cdf scores.\n",
    "mean_perm = PermutationTest(num_permutations=100000, stat_function=np.mean, name='perm_mean', testing_random_seed=0)\n",
    "median_perm = PermutationTest(num_permutations=100000, stat_function=np.median, name='perm_median', \n",
    "                              testing_random_seed=0)\n",
    "\n",
    "chi_sq = ChiSquareTest(bins=[-0.1, 0.5, 1.1])  # Used to calculate counts for the discrete metrics\n",
    "\n",
    "stats = [cdf_perm, mean_perm, median_perm, chi_sq]"
   ]
  },
  {
   "cell_type": "code",
   "execution_count": 9,
   "metadata": {
    "ExecuteTime": {
     "end_time": "2020-03-31T09:53:11.848142Z",
     "start_time": "2020-03-31T09:51:42.657833Z"
    }
   },
   "outputs": [],
   "source": [
    "# Make a DarwinianShift object for the project. \n",
    "# This calculates the mutational spectrum, sets up the statistical tests to use, and filters the data. \n",
    "d = DarwinianShift(\n",
    "    data=data, \n",
    "    source_genome='GRCh37',\n",
    "    spectra=spectra,\n",
    "    stats=stats,\n",
    "    \n",
    "    # Just test with the missense mutations. Nonsense and synonymous mutations are still used to calculate the spectrum\n",
    "    included_mutation_types='missense'\n",
    ")"
   ]
  },
  {
   "cell_type": "code",
   "execution_count": 10,
   "metadata": {
    "ExecuteTime": {
     "end_time": "2020-03-31T09:53:11.858855Z",
     "start_time": "2020-03-31T09:53:11.851011Z"
    }
   },
   "outputs": [],
   "source": [
    "plot_directory=\"./NOTCH1_EGF11_12_figures/\"\n",
    "if not os.path.exists(plot_directory):\n",
    "    os.makedirs(plot_directory)\n",
    "    \n",
    "sifts_directory=\".\"\n",
    "pdb_directory = \".\""
   ]
  },
  {
   "cell_type": "code",
   "execution_count": 11,
   "metadata": {
    "ExecuteTime": {
     "end_time": "2020-03-31T09:53:11.874599Z",
     "start_time": "2020-03-31T09:53:11.865685Z"
    }
   },
   "outputs": [],
   "source": [
    "# Colours\n",
    "\n",
    "unobserved_colour = '#BBBBBB'  \n",
    "observed_colour = '#EE7733'\n",
    "\n",
    "foldx_expected_colour = '#EE6677'\n",
    "foldx_observed_colour = '#CC3311'\n",
    "\n",
    "interface_expected_colour = '#88CCEE'\n",
    "interface_observed_colour = '#0077BB'\n",
    "\n",
    "calcium_expected_colour = '#8DE0D7'\n",
    "calcium_observed_colour = '#009988'"
   ]
  },
  {
   "cell_type": "markdown",
   "metadata": {},
   "source": [
    "# FoldX"
   ]
  },
  {
   "cell_type": "code",
   "execution_count": 12,
   "metadata": {
    "ExecuteTime": {
     "end_time": "2020-03-31T09:53:11.885647Z",
     "start_time": "2020-03-31T09:53:11.878293Z"
    }
   },
   "outputs": [],
   "source": [
    "# Define the FoldX lookup\n",
    "fold = FoldXLookup(foldx_results_directory=\"./FoldX_results/\",\n",
    "                      sifts_directory=sifts_directory,\n",
    "                      foldx_file_name_start=\"PS_f*\", download_sifts=True)"
   ]
  },
  {
   "cell_type": "code",
   "execution_count": 13,
   "metadata": {
    "ExecuteTime": {
     "end_time": "2020-03-31T09:53:11.935854Z",
     "start_time": "2020-03-31T09:53:11.890703Z"
    }
   },
   "outputs": [],
   "source": [
    "d_fold = d.change_lookup(fold)"
   ]
  },
  {
   "cell_type": "code",
   "execution_count": 14,
   "metadata": {
    "ExecuteTime": {
     "end_time": "2020-03-31T09:53:33.238330Z",
     "start_time": "2020-03-31T09:53:11.937634Z"
    }
   },
   "outputs": [],
   "source": [
    "s_fold = d_fold.run_section(section_definition_egf11_12, spectra=main_fig_spectrum, \n",
    "                           statistics=[cdf_perm, mean_perm, median_perm])"
   ]
  },
  {
   "cell_type": "code",
   "execution_count": 15,
   "metadata": {
    "ExecuteTime": {
     "end_time": "2020-03-31T09:53:34.829616Z",
     "start_time": "2020-03-31T09:53:33.241862Z"
    }
   },
   "outputs": [
    {
     "data": {
      "image/png": "[encoded data removed]",
      "text/plain": [
       "<Figure size 432x216 with 1 Axes>"
      ]
     },
     "metadata": {
      "needs_background": "light"
     },
     "output_type": "display_data"
    }
   ],
   "source": [
    "s_fold.plot_scatter(figsize=(6, 3), plot_scale='symlog', show_legend=False, \n",
    "                    unobserved_mutation_colour=unobserved_colour, \n",
    "                    missense_mutation_colour=foldx_observed_colour, \n",
    "                    unmutated_marker_size=15, base_marker_size=15,\n",
    "                   )\n",
    "hide_top_and_right_axes()\n",
    "plt.tight_layout()\n",
    "plt.savefig(os.path.join(plot_directory, 'scatter_foldx_efg11_12.pdf'), transparent=True)"
   ]
  },
  {
   "cell_type": "code",
   "execution_count": 16,
   "metadata": {
    "ExecuteTime": {
     "end_time": "2020-03-31T09:53:41.473723Z",
     "start_time": "2020-03-31T09:53:34.834214Z"
    }
   },
   "outputs": [
    {
     "data": {
      "image/png": "[encoded data removed]",
      "text/plain": [
       "<Figure size 180x216 with 1 Axes>"
      ]
     },
     "metadata": {
      "needs_background": "light"
     },
     "output_type": "display_data"
    }
   ],
   "source": [
    "s_fold.plot_boxplot(figsize=(2.5, 3), plot_scale='symlog', spectra=main_fig_spectrum, \n",
    "                    colours=[foldx_observed_colour, foldx_expected_colour])\n",
    "hide_top_and_right_axes()\n",
    "plt.tight_layout()\n",
    "plt.savefig(os.path.join(plot_directory, 'boxplot_foldx_efg11_12.pdf'), transparent=True)"
   ]
  },
  {
   "cell_type": "code",
   "execution_count": 17,
   "metadata": {
    "ExecuteTime": {
     "end_time": "2020-03-31T09:53:41.481774Z",
     "start_time": "2020-03-31T09:53:41.477274Z"
    }
   },
   "outputs": [],
   "source": [
    "s_fold_results = s_fold.get_results_dictionary()"
   ]
  },
  {
   "cell_type": "code",
   "execution_count": 18,
   "metadata": {
    "ExecuteTime": {
     "end_time": "2020-03-31T09:53:41.491177Z",
     "start_time": "2020-03-31T09:53:41.484071Z"
    }
   },
   "outputs": [
    {
     "data": {
      "text/plain": [
       "308"
      ]
     },
     "execution_count": 18,
     "metadata": {},
     "output_type": "execute_result"
    }
   ],
   "source": [
    "s_fold_results['num_mutations']"
   ]
  },
  {
   "cell_type": "code",
   "execution_count": 19,
   "metadata": {
    "ExecuteTime": {
     "end_time": "2020-03-31T09:53:41.508352Z",
     "start_time": "2020-03-31T09:53:41.493944Z"
    }
   },
   "outputs": [
    {
     "data": {
      "text/plain": [
       "1.999980000199998e-05"
      ]
     },
     "execution_count": 19,
     "metadata": {},
     "output_type": "execute_result"
    }
   ],
   "source": [
    "s_fold_results['CDF_perm__pvalue']  # P-value of the permutation test"
   ]
  },
  {
   "cell_type": "code",
   "execution_count": 20,
   "metadata": {
    "ExecuteTime": {
     "end_time": "2020-03-31T09:53:41.525536Z",
     "start_time": "2020-03-31T09:53:41.511160Z"
    }
   },
   "outputs": [
    {
     "data": {
      "text/plain": [
       "(1.999980000199998e-05, 1.999980000199998e-05)"
      ]
     },
     "execution_count": 20,
     "metadata": {},
     "output_type": "execute_result"
    }
   ],
   "source": [
    "# P-values using the alternative permutation tests. \n",
    "s_fold_results['perm_mean__pvalue'], s_fold_results['perm_median__pvalue']"
   ]
  },
  {
   "cell_type": "markdown",
   "metadata": {},
   "source": [
    "# Interface residues"
   ]
  },
  {
   "cell_type": "markdown",
   "metadata": {},
   "source": [
    "## Defining the interface"
   ]
  },
  {
   "cell_type": "code",
   "execution_count": 21,
   "metadata": {
    "ExecuteTime": {
     "end_time": "2020-03-31T09:53:41.535414Z",
     "start_time": "2020-03-31T09:53:41.528235Z"
    }
   },
   "outputs": [],
   "source": [
    "# Using the interface residues defined in Luca et al 2017\n",
    "# Add these residues to the section definition\n",
    "section_definition_egf11_12['interface_residues'] = [413, 415, 418, 420, 421, 422, 423, 424, 425, \n",
    "                                                     435, 436, 444, 447, 448, 450, 451, 452, 454, \n",
    "                                                     466, 467, 468, 469, 470, 471, 475, 477, 478, \n",
    "                                                     479, 480]"
   ]
  },
  {
   "cell_type": "markdown",
   "metadata": {},
   "source": [
    "## Testing on full set of mutations"
   ]
  },
  {
   "cell_type": "code",
   "execution_count": 22,
   "metadata": {
    "ExecuteTime": {
     "end_time": "2020-03-31T09:53:41.548265Z",
     "start_time": "2020-03-31T09:53:41.538393Z"
    }
   },
   "outputs": [],
   "source": [
    "# Define a lookup object which determines whether mutations are on the NOTCH1-ligand interface. \n",
    "interface_lookup = SequenceDistanceLookup(\n",
    "    boolean=True,   # Just a boolean on/off interface. \n",
    "    target_key='interface_residues',   # Use this entry in the section_definition dict to define the target residues\n",
    "    position_type='residue',   # Use the residue number (as opposed to cdspos or chromosomal position)\n",
    "    name='On interface'  # Label to appear on plot axes\n",
    ")"
   ]
  },
  {
   "cell_type": "code",
   "execution_count": 23,
   "metadata": {
    "ExecuteTime": {
     "end_time": "2020-03-31T09:53:41.614058Z",
     "start_time": "2020-03-31T09:53:41.558432Z"
    }
   },
   "outputs": [],
   "source": [
    "d_interface1 = d.change_lookup(interface_lookup)"
   ]
  },
  {
   "cell_type": "code",
   "execution_count": 24,
   "metadata": {
    "ExecuteTime": {
     "end_time": "2020-03-31T09:54:02.809000Z",
     "start_time": "2020-03-31T09:53:41.621228Z"
    }
   },
   "outputs": [],
   "source": [
    "s_interface1 = d_interface1.run_section(section_definition_egf11_12, spectra=main_fig_spectrum)"
   ]
  },
  {
   "cell_type": "code",
   "execution_count": 25,
   "metadata": {
    "ExecuteTime": {
     "end_time": "2020-03-31T09:54:03.472019Z",
     "start_time": "2020-03-31T09:54:02.811502Z"
    }
   },
   "outputs": [
    {
     "data": {
      "image/png": "[encoded data removed]",
      "text/plain": [
       "<Figure size 432x216 with 1 Axes>"
      ]
     },
     "metadata": {
      "needs_background": "light"
     },
     "output_type": "display_data"
    }
   ],
   "source": [
    "s_interface1.plot_scatter(figsize=(6, 3), show_legend=False, \n",
    "                          unobserved_mutation_colour=unobserved_colour, \n",
    "                          missense_mutation_colour=interface_observed_colour, \n",
    "                         base_marker_size=15, unmutated_marker_size=15)\n",
    "plt.yticks([0, 1], ['False', 'True']);\n",
    "hide_top_and_right_axes()\n",
    "plt.tight_layout()\n",
    "plt.savefig(os.path.join(plot_directory, 'scatter_interface1_efg11_12.pdf'), transparent=True)"
   ]
  },
  {
   "cell_type": "code",
   "execution_count": 26,
   "metadata": {
    "ExecuteTime": {
     "end_time": "2020-03-31T09:54:03.740454Z",
     "start_time": "2020-03-31T09:54:03.475368Z"
    }
   },
   "outputs": [
    {
     "data": {
      "image/png": "[encoded data removed]",
      "text/plain": [
       "<Figure size 216x288 with 1 Axes>"
      ]
     },
     "metadata": {
      "needs_background": "light"
     },
     "output_type": "display_data"
    }
   ],
   "source": [
    "s_interface1.plot_binned_counts(figsize=(3, 4), show_legend=False, spectra=main_fig_spectrum,\n",
    "                                     colours=[interface_observed_colour, interface_expected_colour])\n",
    "hide_top_and_right_axes()\n",
    "plt.title('')\n",
    "plt.xticks(plt.gca().get_xticks(), ['False', 'True'])\n",
    "plt.xlabel('On interface')\n",
    "plt.subplots_adjust(left=0.3, bottom=0.3, right=1, top=1)\n",
    "plt.savefig(os.path.join(plot_directory, 'bar_interface1_efg11_12.pdf'), transparent=True)"
   ]
  },
  {
   "cell_type": "code",
   "execution_count": 27,
   "metadata": {
    "ExecuteTime": {
     "end_time": "2020-03-31T09:54:03.753457Z",
     "start_time": "2020-03-31T09:54:03.743823Z"
    }
   },
   "outputs": [],
   "source": [
    "s_interface1_results = s_interface1.get_results_dictionary()"
   ]
  },
  {
   "cell_type": "code",
   "execution_count": 28,
   "metadata": {
    "ExecuteTime": {
     "end_time": "2020-03-31T09:54:03.770358Z",
     "start_time": "2020-03-31T09:54:03.758648Z"
    }
   },
   "outputs": [
    {
     "data": {
      "text/plain": [
       "308"
      ]
     },
     "execution_count": 28,
     "metadata": {},
     "output_type": "execute_result"
    }
   ],
   "source": [
    "s_interface1_results['num_mutations']"
   ]
  },
  {
   "cell_type": "code",
   "execution_count": 29,
   "metadata": {
    "ExecuteTime": {
     "end_time": "2020-03-31T09:54:03.789844Z",
     "start_time": "2020-03-31T09:54:03.774945Z"
    }
   },
   "outputs": [
    {
     "data": {
      "text/plain": [
       "(0.3455963868708081, 0.3344155844155844)"
      ]
     },
     "execution_count": 29,
     "metadata": {},
     "output_type": "execute_result"
    }
   ],
   "source": [
    "# Use the chi-square test to get the proportions expected and observed on the interface.\n",
    "s_interface1_results['chi_square__binom_expected'], s_interface1_results['chi_square__binom_observed']"
   ]
  },
  {
   "cell_type": "code",
   "execution_count": 30,
   "metadata": {
    "ExecuteTime": {
     "end_time": "2020-03-31T09:54:03.805416Z",
     "start_time": "2020-03-31T09:54:03.795250Z"
    }
   },
   "outputs": [
    {
     "data": {
      "text/plain": [
       "0.7323926760732392"
      ]
     },
     "execution_count": 30,
     "metadata": {},
     "output_type": "execute_result"
    }
   ],
   "source": [
    "s_interface1_results['CDF_perm__pvalue']  # P-value of the permutation test"
   ]
  },
  {
   "cell_type": "code",
   "execution_count": 31,
   "metadata": {
    "ExecuteTime": {
     "end_time": "2020-03-31T09:54:03.823359Z",
     "start_time": "2020-03-31T09:54:03.810214Z"
    }
   },
   "outputs": [
    {
     "data": {
      "text/plain": [
       "(0.7261527384726153, 1)"
      ]
     },
     "execution_count": 31,
     "metadata": {},
     "output_type": "execute_result"
    }
   ],
   "source": [
    "# P-values using the alternative permutation tests. \n",
    "s_interface1_results['perm_mean__pvalue'], s_interface1_results['perm_median__pvalue']"
   ]
  },
  {
   "cell_type": "markdown",
   "metadata": {},
   "source": [
    "## Testing after excluding destabilising mutations"
   ]
  },
  {
   "cell_type": "markdown",
   "metadata": {},
   "source": [
    "We can use the FoldX lookup to exclude mutations that are highly destabilising.  \n",
    "We are then testing if, *out of the non-destabilising mutations*, there is a statistically significant enrichment of the mutations on the ligand binding interface.   \n",
    "\n",
    "We exclude the destabilising mutations from both the null hypothesis and the observed mutations so that the results are not skewed.  "
   ]
  },
  {
   "cell_type": "code",
   "execution_count": 32,
   "metadata": {
    "ExecuteTime": {
     "end_time": "2020-03-31T09:54:03.838632Z",
     "start_time": "2020-03-31T09:54:03.826940Z"
    }
   },
   "outputs": [],
   "source": [
    "# Define the combined lookup.\n",
    "excllook = MutationExclusionLookup(\n",
    "    lookup=interface_lookup,   # Use the interface lookup for the test\n",
    "    exclusion_lookup=fold,   # Use the foldX lookup to exlcude mutations that have large ∆∆G values \n",
    "    exclusion_threshold=2,  # Pick a threshold of 2kcal/mol \n",
    "    exclusion_direction=1,   # Exclude mutations with a ∆∆G score larger than the threshold.\n",
    "    name='On interface'\n",
    ")"
   ]
  },
  {
   "cell_type": "code",
   "execution_count": 33,
   "metadata": {
    "ExecuteTime": {
     "end_time": "2020-03-31T09:54:03.890846Z",
     "start_time": "2020-03-31T09:54:03.847540Z"
    }
   },
   "outputs": [],
   "source": [
    "d_interface2 = d.change_lookup(excllook)"
   ]
  },
  {
   "cell_type": "code",
   "execution_count": 34,
   "metadata": {
    "ExecuteTime": {
     "end_time": "2020-03-31T09:54:14.010401Z",
     "start_time": "2020-03-31T09:54:03.893305Z"
    }
   },
   "outputs": [],
   "source": [
    "s_interface2 = d_interface2.run_section(section_definition_egf11_12, spectra=main_fig_spectrum)"
   ]
  },
  {
   "cell_type": "code",
   "execution_count": 35,
   "metadata": {
    "ExecuteTime": {
     "end_time": "2020-03-31T09:54:14.441647Z",
     "start_time": "2020-03-31T09:54:14.013144Z"
    }
   },
   "outputs": [
    {
     "data": {
      "image/png": "[encoded data removed]",
      "text/plain": [
       "<Figure size 432x216 with 1 Axes>"
      ]
     },
     "metadata": {
      "needs_background": "light"
     },
     "output_type": "display_data"
    }
   ],
   "source": [
    "s_interface2.plot_scatter(figsize=(6, 3), show_legend=False, \n",
    "                         unobserved_mutation_colour=unobserved_colour, \n",
    "                          missense_mutation_colour=interface_observed_colour,\n",
    "                         base_marker_size=15, unmutated_marker_size=15)\n",
    "plt.yticks([0, 1], ['False', 'True']);\n",
    "hide_top_and_right_axes()\n",
    "plt.tight_layout()\n",
    "plt.savefig(os.path.join(plot_directory, 'scatter_interface2_efg11_12.pdf'), transparent=True)"
   ]
  },
  {
   "cell_type": "code",
   "execution_count": 36,
   "metadata": {
    "ExecuteTime": {
     "end_time": "2020-03-31T09:54:14.675343Z",
     "start_time": "2020-03-31T09:54:14.444996Z"
    }
   },
   "outputs": [
    {
     "data": {
      "image/png": "[encoded data removed]",
      "text/plain": [
       "<Figure size 216x288 with 1 Axes>"
      ]
     },
     "metadata": {
      "needs_background": "light"
     },
     "output_type": "display_data"
    }
   ],
   "source": [
    "s_interface2.plot_binned_counts(figsize=(3, 4), show_legend=False, spectra=main_fig_spectrum, \n",
    "                                     colours=[interface_observed_colour, interface_expected_colour])\n",
    "plt.title('')\n",
    "hide_top_and_right_axes()\n",
    "plt.xticks(plt.gca().get_xticks(), ['False', 'True'])\n",
    "plt.xlabel('On interface')\n",
    "plt.subplots_adjust(left=0.3, bottom=0.3, right=1, top=1)\n",
    "plt.savefig(os.path.join(plot_directory, 'bar_interface2_efg11_12.pdf'), transparent=True)"
   ]
  },
  {
   "cell_type": "code",
   "execution_count": 37,
   "metadata": {
    "ExecuteTime": {
     "end_time": "2020-03-31T09:54:14.682940Z",
     "start_time": "2020-03-31T09:54:14.678651Z"
    }
   },
   "outputs": [],
   "source": [
    "s_interface2_results = s_interface2.get_results_dictionary()"
   ]
  },
  {
   "cell_type": "code",
   "execution_count": 38,
   "metadata": {
    "ExecuteTime": {
     "end_time": "2020-03-31T09:54:14.698119Z",
     "start_time": "2020-03-31T09:54:14.685635Z"
    }
   },
   "outputs": [
    {
     "data": {
      "text/plain": [
       "107"
      ]
     },
     "execution_count": 38,
     "metadata": {},
     "output_type": "execute_result"
    }
   ],
   "source": [
    "s_interface2_results['num_mutations']"
   ]
  },
  {
   "cell_type": "code",
   "execution_count": 39,
   "metadata": {
    "ExecuteTime": {
     "end_time": "2020-03-31T09:54:14.713784Z",
     "start_time": "2020-03-31T09:54:14.701543Z"
    }
   },
   "outputs": [
    {
     "data": {
      "text/plain": [
       "(0.4317494095414048, 0.6355140186915887)"
      ]
     },
     "execution_count": 39,
     "metadata": {},
     "output_type": "execute_result"
    }
   ],
   "source": [
    "s_interface2_results['chi_square__binom_expected'], s_interface2_results['chi_square__binom_observed']"
   ]
  },
  {
   "cell_type": "code",
   "execution_count": 40,
   "metadata": {
    "ExecuteTime": {
     "end_time": "2020-03-31T09:54:14.724063Z",
     "start_time": "2020-03-31T09:54:14.717337Z"
    }
   },
   "outputs": [
    {
     "data": {
      "text/plain": [
       "3.999960000399996e-05"
      ]
     },
     "execution_count": 40,
     "metadata": {},
     "output_type": "execute_result"
    }
   ],
   "source": [
    "s_interface2_results['CDF_perm__pvalue']  # P-value of the permutation test"
   ]
  },
  {
   "cell_type": "code",
   "execution_count": 41,
   "metadata": {
    "ExecuteTime": {
     "end_time": "2020-03-31T09:54:14.736747Z",
     "start_time": "2020-03-31T09:54:14.727540Z"
    }
   },
   "outputs": [
    {
     "data": {
      "text/plain": [
       "(3.999960000399996e-05, 0.15543844561554385)"
      ]
     },
     "execution_count": 41,
     "metadata": {},
     "output_type": "execute_result"
    }
   ],
   "source": [
    "# P-values using the alternative permutation tests. \n",
    "s_interface2_results['perm_mean__pvalue'], s_interface2_results['perm_median__pvalue']"
   ]
  },
  {
   "cell_type": "markdown",
   "metadata": {},
   "source": [
    "### Altering the ∆∆G threshold"
   ]
  },
  {
   "cell_type": "code",
   "execution_count": 42,
   "metadata": {
    "ExecuteTime": {
     "end_time": "2020-03-31T09:55:03.975623Z",
     "start_time": "2020-03-31T09:54:14.740024Z"
    }
   },
   "outputs": [],
   "source": [
    "thresholds = [1, 1.5, 2, 2.5, 3]  # Try different thresholds for excluding destabilising mtuations\n",
    "excllookups = [\n",
    "MutationExclusionLookup(\n",
    "    lookup=interface_lookup,   # Use the interface lookup for the test\n",
    "    exclusion_lookup=fold,   # Use the foldX lookup to exlcude mutations that have large ∆∆G values \n",
    "    exclusion_threshold=t,  # Use the given threshold\n",
    "    exclusion_direction=1,   # Exclude mutations with a ∆∆G score larger than the threshold.\n",
    "    name='On interface'\n",
    ") for t in thresholds]\n",
    "\n",
    "d_interface_with_thresholds = [d.change_lookup(i) for i in excllookups]\n",
    "s_interfaces_with_thresholds = [\n",
    "    dd.run_section(section_definition_egf11_12, spectra=main_fig_spectrum) for dd in d_interface_with_thresholds\n",
    "]\n",
    "results = [s.get_results_dictionary() for s in s_interfaces_with_thresholds]"
   ]
  },
  {
   "cell_type": "code",
   "execution_count": 43,
   "metadata": {
    "ExecuteTime": {
     "end_time": "2020-03-31T09:55:03.986762Z",
     "start_time": "2020-03-31T09:55:03.977522Z"
    }
   },
   "outputs": [],
   "source": [
    "observed_counts = np.concatenate([r['chi_square__observed_counts'] for r in results])\n",
    "expected_counts = np.concatenate([r['chi_square__expected_counts'] for r in results])\n",
    "observed_ci_low = np.concatenate([r['chi_square__observed_CI_low'] for r in results])\n",
    "observed_ci_high = np.concatenate([r['chi_square__observed_CI_high'] for r in results])\n",
    "expected_ci_low = np.concatenate([r['chi_square__expected_CI_low'] for r in results])\n",
    "expected_ci_high = np.concatenate([r['chi_square__expected_CI_high'] for r in results])\n",
    "pvalues = [r['CDF_perm__pvalue'] for r in results]"
   ]
  },
  {
   "cell_type": "code",
   "execution_count": 44,
   "metadata": {
    "ExecuteTime": {
     "end_time": "2020-03-31T09:55:03.998449Z",
     "start_time": "2020-03-31T09:55:03.989928Z"
    }
   },
   "outputs": [
    {
     "data": {
      "text/plain": [
       "[0.0007399926000739993,\n",
       " 0.00021999780002199978,\n",
       " 3.999960000399996e-05,\n",
       " 5.999940000599994e-05,\n",
       " 0.01091989080109199]"
      ]
     },
     "execution_count": 44,
     "metadata": {},
     "output_type": "execute_result"
    }
   ],
   "source": [
    "pvalues"
   ]
  },
  {
   "cell_type": "code",
   "execution_count": 45,
   "metadata": {
    "ExecuteTime": {
     "end_time": "2020-03-31T09:55:04.410380Z",
     "start_time": "2020-03-31T09:55:04.002166Z"
    }
   },
   "outputs": [
    {
     "data": {
      "image/png": "[encoded data removed]",
      "text/plain": [
       "<Figure size 576x288 with 2 Axes>"
      ]
     },
     "metadata": {
      "needs_background": "light"
     },
     "output_type": "display_data"
    }
   ],
   "source": [
    "fig, ax = plt.subplots(figsize=(8, 4))\n",
    "width = 0.4\n",
    "x_pos = np.array([0, 1, 3, 4, 6, 7, 9, 10, 12, 13])\n",
    "\n",
    "plt.bar(x_pos, expected_counts, yerr=[expected_counts-expected_ci_low, expected_ci_high-expected_counts],\n",
    "        width=width, color=interface_expected_colour)\n",
    "plt.bar(x_pos+width, observed_counts, yerr=[observed_counts-observed_ci_low, observed_ci_high-observed_counts],\n",
    "        width=width, color=interface_observed_colour)\n",
    "# plt.xticks(x_pos+width/2, ['False', 'True']*5)\n",
    "plt.xticks(x_pos+width/2, ['Non-\\ninterface', 'Interface']*5, rotation=90)\n",
    "ax.tick_params(axis='x', direction='out', pad=12, length=0)\n",
    "fig.subplots_adjust(bottom=0.25)\n",
    "ax2 = plt.gca().twiny()\n",
    "ax2.patch.set_visible(False)\n",
    "hide_top_and_right_axes(ax2)\n",
    "ax2.xaxis.set_ticks_position('bottom')\n",
    "ax2.xaxis.set_label_position('bottom')\n",
    "ax2.set_xticks([0.75, 3.75, 6.75, 9.75, 12.75])\n",
    "ax2.set_xticklabels(['∆∆G≤{}'.format(t) for t in thresholds])\n",
    "ax2.set_xlim(ax.get_xlim())\n",
    "ax2.tick_params(axis='x', length=0, pad=1.5)\n",
    "# ax.set_xlabel('On interface')\n",
    "ax.set_ylabel('Number of missense mutations')\n",
    "# plt.subplots_adjust(left=0.3, bottom=0.3, right=1, top=1)\n",
    "plt.savefig(os.path.join(plot_directory, 'bar_interface2_efg11_12_varying_threshold.pdf'), transparent=True)"
   ]
  },
  {
   "cell_type": "markdown",
   "metadata": {},
   "source": [
    "# Calcium binding residues"
   ]
  },
  {
   "cell_type": "markdown",
   "metadata": {},
   "source": [
    "## Defining calcium binding residues"
   ]
  },
  {
   "cell_type": "markdown",
   "metadata": {},
   "source": [
    "Using the server MetalPDB https://academic.oup.com/nar/article/46/D1/D459/4564802  \n",
    "http://metalweb.cerm.unifi.it"
   ]
  },
  {
   "cell_type": "code",
   "execution_count": 46,
   "metadata": {
    "ExecuteTime": {
     "end_time": "2020-03-31T09:55:04.419212Z",
     "start_time": "2020-03-31T09:55:04.413797Z"
    }
   },
   "outputs": [],
   "source": [
    "# Add the residues to the section definition dictionary.  \n",
    "ca_binding_residues = [412, 413, 415, 431, 432, 435, 452, 453, 455, 469, 470]\n",
    "section_definition_egf11_12['ca_binding_residues'] = ca_binding_residues"
   ]
  },
  {
   "cell_type": "code",
   "execution_count": 47,
   "metadata": {
    "ExecuteTime": {
     "end_time": "2020-03-31T09:55:04.433191Z",
     "start_time": "2020-03-31T09:55:04.422356Z"
    }
   },
   "outputs": [],
   "source": [
    "ca_lookup = SequenceDistanceLookup(\n",
    "    boolean=True,   # Just a boolean binding/not binding. \n",
    "    target_key='ca_binding_residues',   # Use this entry in the section_definition dict to define the target residues\n",
    "    position_type='residue',   # Use the residue number (as opposed to cdspos or chromosomal position)\n",
    "    name='Calcium binding'  # Label to appear on plot axes\n",
    ")"
   ]
  },
  {
   "cell_type": "markdown",
   "metadata": {},
   "source": [
    "## Testing on full set of mutations"
   ]
  },
  {
   "cell_type": "code",
   "execution_count": 48,
   "metadata": {
    "ExecuteTime": {
     "end_time": "2020-03-31T09:55:04.472811Z",
     "start_time": "2020-03-31T09:55:04.436987Z"
    }
   },
   "outputs": [],
   "source": [
    "d_ca1 = d.change_lookup(ca_lookup)"
   ]
  },
  {
   "cell_type": "code",
   "execution_count": 49,
   "metadata": {
    "ExecuteTime": {
     "end_time": "2020-03-31T09:55:17.388405Z",
     "start_time": "2020-03-31T09:55:04.475018Z"
    }
   },
   "outputs": [],
   "source": [
    "s_ca1 = d_ca1.run_section(section_definition_egf11_12, spectra=main_fig_spectrum)"
   ]
  },
  {
   "cell_type": "code",
   "execution_count": 50,
   "metadata": {
    "ExecuteTime": {
     "end_time": "2020-03-31T09:55:17.725353Z",
     "start_time": "2020-03-31T09:55:17.390495Z"
    }
   },
   "outputs": [
    {
     "data": {
      "image/png": "[encoded data removed]",
      "text/plain": [
       "<Figure size 432x216 with 1 Axes>"
      ]
     },
     "metadata": {
      "needs_background": "light"
     },
     "output_type": "display_data"
    }
   ],
   "source": [
    "s_ca1.plot_scatter(figsize=(6, 3), show_legend=False, \n",
    "                  unobserved_mutation_colour=unobserved_colour, \n",
    "                   missense_mutation_colour=calcium_observed_colour,\n",
    "                  base_marker_size=15, unmutated_marker_size=15)\n",
    "plt.yticks([0, 1], ['False', 'True']);\n",
    "hide_top_and_right_axes()\n",
    "plt.tight_layout()\n",
    "plt.savefig(os.path.join(plot_directory, 'scatter_ca1_efg11_12.pdf'), transparent=True)"
   ]
  },
  {
   "cell_type": "code",
   "execution_count": 51,
   "metadata": {
    "ExecuteTime": {
     "end_time": "2020-03-31T09:55:18.008248Z",
     "start_time": "2020-03-31T09:55:17.730363Z"
    }
   },
   "outputs": [
    {
     "data": {
      "image/png": "[encoded data removed]",
      "text/plain": [
       "<Figure size 216x288 with 1 Axes>"
      ]
     },
     "metadata": {
      "needs_background": "light"
     },
     "output_type": "display_data"
    }
   ],
   "source": [
    "s_ca1.plot_binned_counts(figsize=(3, 4), show_legend=False, spectra=main_fig_spectrum,\n",
    "                              colours=[calcium_observed_colour, calcium_expected_colour])\n",
    "hide_top_and_right_axes()\n",
    "plt.title('')\n",
    "plt.xticks(plt.gca().get_xticks(), ['False', 'True'])\n",
    "plt.xlabel('Calcium binding')\n",
    "plt.subplots_adjust(left=0.3, bottom=0.3, right=1, top=1)\n",
    "plt.savefig(os.path.join(plot_directory, 'bar_ca1_efg11_12.pdf'), transparent=True)"
   ]
  },
  {
   "cell_type": "code",
   "execution_count": 52,
   "metadata": {
    "ExecuteTime": {
     "end_time": "2020-03-31T09:55:18.018196Z",
     "start_time": "2020-03-31T09:55:18.012200Z"
    }
   },
   "outputs": [],
   "source": [
    "s_ca1_results = s_ca1.get_results_dictionary()"
   ]
  },
  {
   "cell_type": "code",
   "execution_count": 53,
   "metadata": {
    "ExecuteTime": {
     "end_time": "2020-03-31T09:55:18.034019Z",
     "start_time": "2020-03-31T09:55:18.022807Z"
    }
   },
   "outputs": [
    {
     "data": {
      "text/plain": [
       "308"
      ]
     },
     "execution_count": 53,
     "metadata": {},
     "output_type": "execute_result"
    }
   ],
   "source": [
    "s_ca1_results['num_mutations']"
   ]
  },
  {
   "cell_type": "code",
   "execution_count": 54,
   "metadata": {
    "ExecuteTime": {
     "end_time": "2020-03-31T09:55:18.045039Z",
     "start_time": "2020-03-31T09:55:18.037450Z"
    }
   },
   "outputs": [
    {
     "data": {
      "text/plain": [
       "0.47503524964750354"
      ]
     },
     "execution_count": 54,
     "metadata": {},
     "output_type": "execute_result"
    }
   ],
   "source": [
    "s_ca1_results['CDF_perm__pvalue']  # P-value of permutation test"
   ]
  },
  {
   "cell_type": "code",
   "execution_count": 55,
   "metadata": {
    "ExecuteTime": {
     "end_time": "2020-03-31T09:55:18.058681Z",
     "start_time": "2020-03-31T09:55:18.049702Z"
    }
   },
   "outputs": [
    {
     "data": {
      "text/plain": [
       "(0.4764552354476455, 1)"
      ]
     },
     "execution_count": 55,
     "metadata": {},
     "output_type": "execute_result"
    }
   ],
   "source": [
    "# P-values using the alternative permutation tests. \n",
    "s_ca1_results['perm_mean__pvalue'], s_ca1_results['perm_median__pvalue']"
   ]
  },
  {
   "cell_type": "markdown",
   "metadata": {},
   "source": [
    "## Testing after excluding destabilising and interface mutations"
   ]
  },
  {
   "cell_type": "markdown",
   "metadata": {},
   "source": [
    "Testing the calcium binding mutations against all mutations in EGF11-12 does not find significant selection.  \n",
    "Try excluding destabilising and interface mutations and test again.  "
   ]
  },
  {
   "cell_type": "code",
   "execution_count": 56,
   "metadata": {
    "ExecuteTime": {
     "end_time": "2020-03-31T09:55:18.079595Z",
     "start_time": "2020-03-31T09:55:18.062767Z"
    }
   },
   "outputs": [],
   "source": [
    "# First define a lookup that is 1 if the mutation is destabilising or on the interface and 0 otherwise.\n",
    "destabilising_or_interface_lookup = ORLookup(\n",
    "    lookups=[fold, interface_lookup],  # Use the FoldX and the interface lookups.  \n",
    "    thresholds=[2, 0.5],  # Again pick a threshold of 2kcal/mol for the FoldX result, interface results are either 0 or 1 so set threshold at 0.5. \n",
    "    directions=[1, 1],  # Want to exclude mutations with scores greater than the thresholds, so directions are both 1.\n",
    ")\n",
    "\n",
    "\n",
    "# Define the combined lookup.\n",
    "excllook2 = MutationExclusionLookup(\n",
    "    lookup=ca_lookup,   # Use the calcium binding lookup for the test\n",
    "    exclusion_lookup=destabilising_or_interface_lookup,   # Use the foldX lookup to exlcude mutations that have large ∆∆G values \n",
    "    exclusion_threshold=0.5,  #  Scores from the exclusion are either 0, or 1, so can put threshold anywhere in between.\n",
    "    exclusion_direction=1,   # Exclude mutations with a score above the exclusion_threhold from the exclusion_lookup.\n",
    "    name='Calcium binding'\n",
    ")"
   ]
  },
  {
   "cell_type": "code",
   "execution_count": 57,
   "metadata": {
    "ExecuteTime": {
     "end_time": "2020-03-31T09:55:18.120727Z",
     "start_time": "2020-03-31T09:55:18.085881Z"
    }
   },
   "outputs": [],
   "source": [
    "d_ca2 = d.change_lookup(excllook2)"
   ]
  },
  {
   "cell_type": "code",
   "execution_count": 58,
   "metadata": {
    "ExecuteTime": {
     "end_time": "2020-03-31T09:55:22.810767Z",
     "start_time": "2020-03-31T09:55:18.124619Z"
    }
   },
   "outputs": [],
   "source": [
    "s_ca2 = d_ca2.run_section(section_definition_egf11_12, spectra=main_fig_spectrum)"
   ]
  },
  {
   "cell_type": "code",
   "execution_count": 59,
   "metadata": {
    "ExecuteTime": {
     "end_time": "2020-03-31T09:55:23.013999Z",
     "start_time": "2020-03-31T09:55:22.812642Z"
    }
   },
   "outputs": [
    {
     "data": {
      "image/png": "[encoded data removed]",
      "text/plain": [
       "<Figure size 432x216 with 1 Axes>"
      ]
     },
     "metadata": {
      "needs_background": "light"
     },
     "output_type": "display_data"
    }
   ],
   "source": [
    "s_ca2.plot_scatter(figsize=(6, 3), show_legend=False, \n",
    "                  unobserved_mutation_colour=unobserved_colour, \n",
    "                   missense_mutation_colour=calcium_observed_colour,\n",
    "                  base_marker_size=15, unmutated_marker_size=15)\n",
    "plt.yticks([0, 1], ['False', 'True']);\n",
    "hide_top_and_right_axes()\n",
    "plt.tight_layout()\n",
    "plt.savefig(os.path.join(plot_directory, 'scatter_ca2_efg11_12.pdf'), transparent=True)"
   ]
  },
  {
   "cell_type": "code",
   "execution_count": 60,
   "metadata": {
    "ExecuteTime": {
     "end_time": "2020-03-31T09:55:23.289694Z",
     "start_time": "2020-03-31T09:55:23.017352Z"
    }
   },
   "outputs": [
    {
     "data": {
      "image/png": "[encoded data removed]",
      "text/plain": [
       "<Figure size 216x288 with 1 Axes>"
      ]
     },
     "metadata": {
      "needs_background": "light"
     },
     "output_type": "display_data"
    }
   ],
   "source": [
    "s_ca2.plot_binned_counts(figsize=(3, 4), show_legend=False, spectra=main_fig_spectrum,\n",
    "                              colours=[calcium_observed_colour, calcium_expected_colour])\n",
    "hide_top_and_right_axes()\n",
    "plt.title('')\n",
    "plt.xticks(plt.gca().get_xticks(), ['False', 'True'])\n",
    "plt.xlabel('Calcium binding')\n",
    "plt.subplots_adjust(left=0.3, bottom=0.3, right=1, top=1)\n",
    "plt.savefig(os.path.join(plot_directory, 'bar_ca2_efg11_12.pdf'), transparent=True)"
   ]
  },
  {
   "cell_type": "code",
   "execution_count": 61,
   "metadata": {
    "ExecuteTime": {
     "end_time": "2020-03-31T09:55:23.298492Z",
     "start_time": "2020-03-31T09:55:23.293367Z"
    }
   },
   "outputs": [],
   "source": [
    "s_ca2_results = s_ca2.get_results_dictionary()"
   ]
  },
  {
   "cell_type": "code",
   "execution_count": 62,
   "metadata": {
    "ExecuteTime": {
     "end_time": "2020-03-31T09:55:23.312939Z",
     "start_time": "2020-03-31T09:55:23.304406Z"
    }
   },
   "outputs": [
    {
     "data": {
      "text/plain": [
       "39"
      ]
     },
     "execution_count": 62,
     "metadata": {},
     "output_type": "execute_result"
    }
   ],
   "source": [
    "s_ca2_results['num_mutations']"
   ]
  },
  {
   "cell_type": "code",
   "execution_count": 63,
   "metadata": {
    "ExecuteTime": {
     "end_time": "2020-03-31T09:55:23.330472Z",
     "start_time": "2020-03-31T09:55:23.320806Z"
    }
   },
   "outputs": [
    {
     "data": {
      "text/plain": [
       "1.999980000199998e-05"
      ]
     },
     "execution_count": 63,
     "metadata": {},
     "output_type": "execute_result"
    }
   ],
   "source": [
    "s_ca2_results['CDF_perm__pvalue']  # P-value of permutation test"
   ]
  },
  {
   "cell_type": "code",
   "execution_count": 64,
   "metadata": {
    "ExecuteTime": {
     "end_time": "2020-03-31T09:55:23.347325Z",
     "start_time": "2020-03-31T09:55:23.335065Z"
    }
   },
   "outputs": [
    {
     "data": {
      "text/plain": [
       "(1.999980000199998e-05, 1.999980000199998e-05)"
      ]
     },
     "execution_count": 64,
     "metadata": {},
     "output_type": "execute_result"
    }
   ],
   "source": [
    "# P-values using the alternative permutation tests. \n",
    "s_ca2_results['perm_mean__pvalue'], s_ca2_results['perm_median__pvalue']"
   ]
  },
  {
   "cell_type": "markdown",
   "metadata": {},
   "source": [
    "# Mutation categories"
   ]
  },
  {
   "cell_type": "code",
   "execution_count": 65,
   "metadata": {
    "ExecuteTime": {
     "end_time": "2020-03-31T09:55:36.468618Z",
     "start_time": "2020-03-31T09:55:23.350248Z"
    }
   },
   "outputs": [
    {
     "name": "stderr",
     "output_type": "stream",
     "text": [
      "/Users/mh28/miniconda3/envs/ds/lib/python3.7/site-packages/scipy/stats/stats.py:5048: RuntimeWarning: invalid value encountered in true_divide\n",
      "  terms = (f_obs - f_exp)**2 / f_exp\n"
     ]
    }
   ],
   "source": [
    "# For this plot, define a distance from the residues on the interface.\n",
    "# As this is done on the 2VJ3 structure, which does not include the ligand, \n",
    "# this is the distance to the NOTCH1 residues on the interface, rather than directly distance from the ligand. \n",
    "\n",
    "# Add the target command for selecting the interface residues in the structure:\n",
    "target_selection_string = 'protein and segid A and resid {} and name CA'.format(\n",
    "    \" \".join([str(int(p)) for p in section_definition_egf11_12['interface_residues']]))\n",
    "section_definition_egf11_12['interface_residues_3D'] = target_selection_string\n",
    "\n",
    "\n",
    "# Define the lookup that measure the distance in the structure from these selected residues\n",
    "interface_lookup3D = StructureDistanceLookup(\n",
    "    boolean=False,  # This time we use the distance\n",
    "    target_key='interface_residues_3D', \n",
    "    name='Distance from interface residues (A)',\n",
    "    \n",
    "    # Uses the pdb file and SIFTS. Provide paths to directories including those files.\n",
    "    pdb_directory=pdb_directory,\n",
    "    sifts_directory=sifts_directory, \n",
    "    download_sifts=True   # Download the SIFTS file if not already in the directory\n",
    "\n",
    ")\n",
    "d_interface3D = d.change_lookup(interface_lookup3D)\n",
    "s_interface3D = d_interface3D.run_section(section_definition_egf11_12, spectra=main_fig_spectrum)"
   ]
  },
  {
   "cell_type": "code",
   "execution_count": 66,
   "metadata": {
    "ExecuteTime": {
     "end_time": "2020-03-31T09:55:37.656351Z",
     "start_time": "2020-03-31T09:55:36.470409Z"
    }
   },
   "outputs": [
    {
     "data": {
      "image/png": "[encoded data removed]",
      "text/plain": [
       "<Figure size 432x432 with 1 Axes>"
      ]
     },
     "metadata": {
      "needs_background": "light"
     },
     "output_type": "display_data"
    }
   ],
   "source": [
    "plot_scatter_two_scores(s_interface3D, s_fold, \n",
    "                        sections_for_colours=[s_fold, s_interface3D, s_ca1], \n",
    "                        score_regions_for_colours=[[2, 100], [-1, 0.1], [0.9,1.1]],\n",
    "                        score_region_colours=[foldx_observed_colour, interface_observed_colour, calcium_observed_colour],\n",
    "                        unobserved_mutation_colour=unobserved_colour, \n",
    "                        missense_mutation_colour=observed_colour,\n",
    "                        plot_yscale='symlog', show_legend=False, figsize=(6, 6), unmutated_marker_size=15,\n",
    "                        base_marker_size=20, annotate_mutations=False, annotate_xregion=[2, 10],\n",
    "                            annotate_yregion=[-10000, 1.5], annotate_min_count=3, annotate_column='aachange',\n",
    "                            annotation_offset=(-1.6, 0))\n",
    "hide_top_and_right_axes()\n",
    "plt.tight_layout()\n",
    "plt.savefig(os.path.join(plot_directory, 'foldX_vs_interface_distance_efg11_12.pdf'), transparent=True)"
   ]
  },
  {
   "cell_type": "code",
   "execution_count": 67,
   "metadata": {
    "ExecuteTime": {
     "end_time": "2020-03-31T09:55:38.972602Z",
     "start_time": "2020-03-31T09:55:37.659718Z"
    }
   },
   "outputs": [
    {
     "data": {
      "image/png": "[encoded data removed]",
      "text/plain": [
       "<Figure size 432x432 with 1 Axes>"
      ]
     },
     "metadata": {
      "needs_background": "light"
     },
     "output_type": "display_data"
    }
   ],
   "source": [
    "s_fold.plot_mutation_rate_scatter(figsize=(6, 6), metric_plot_scale='symlog', mut_rate_plot_scale='log',\n",
    "                                  xlim=[0.0001, 0.1], spectra=main_fig_spectrum,\n",
    "                                  unmutated_marker_size=15, base_marker_size=15, \n",
    "                                  unobserved_mutation_colour=unobserved_colour,\n",
    "                                  missense_mutation_colour=observed_colour,\n",
    "                                  show_legend=False, \n",
    "                                 sections_for_colours=[s_fold, s_interface1, s_ca1], \n",
    "                                 score_regions_for_colours=[[2, 100000], [0.5, 2], [0.5, 2]], \n",
    "                                 score_region_colours=[foldx_observed_colour, \n",
    "                                                       interface_observed_colour, \n",
    "                                                       calcium_observed_colour])\n",
    "hide_top_and_right_axes()\n",
    "plt.tight_layout()\n",
    "plt.savefig(os.path.join(plot_directory, 'foldX_vs_mutation_rate_efg11_12.pdf'), transparent=True)"
   ]
  },
  {
   "cell_type": "markdown",
   "metadata": {},
   "source": [
    "# Classifying all potential mutations"
   ]
  },
  {
   "cell_type": "code",
   "execution_count": 68,
   "metadata": {
    "ExecuteTime": {
     "end_time": "2020-03-31T09:55:53.401789Z",
     "start_time": "2020-03-31T09:55:38.983434Z"
    }
   },
   "outputs": [],
   "source": [
    "destabilising_or_interface_or_calcium_lookup = ORLookup(\n",
    "    lookups=[fold, interface_lookup, ca_lookup],  # Use the FoldX, interface and calcium lookups.  \n",
    "    thresholds=[2, 0.5, 0.5],  # Again pick a threshold of 2kcal/mol for the FoldX result, interface and calcium results are either 0 or 1 so set threshold at 0.5. \n",
    "    directions=[1, 1, 1],  # Want to exclude mutations with scores greater than the thresholds, so directions are all 1.\n",
    ")\n",
    "d_all = d.change_lookup(destabilising_or_interface_or_calcium_lookup)\n",
    "s_all = d_all.run_section(section_definition_egf11_12, spectra=main_fig_spectrum)"
   ]
  },
  {
   "cell_type": "code",
   "execution_count": 69,
   "metadata": {
    "ExecuteTime": {
     "end_time": "2020-03-31T09:55:53.421781Z",
     "start_time": "2020-03-31T09:55:53.405901Z"
    }
   },
   "outputs": [
    {
     "data": {
      "text/plain": [
       "0.7029126213592233"
      ]
     },
     "execution_count": 69,
     "metadata": {},
     "output_type": "execute_result"
    }
   ],
   "source": [
    "# Proportion of mutations expected to occur in one of the three categories (not adjusting for spectrum)\n",
    "len(s_all.null_mutations[s_all.null_mutations['score'] == 1])/len(s_all.null_mutations)"
   ]
  },
  {
   "cell_type": "code",
   "execution_count": 70,
   "metadata": {
    "ExecuteTime": {
     "end_time": "2020-03-31T09:55:53.446098Z",
     "start_time": "2020-03-31T09:55:53.425177Z"
    }
   },
   "outputs": [
    {
     "data": {
      "text/plain": [
       "0.7070863957265402"
      ]
     },
     "execution_count": 70,
     "metadata": {},
     "output_type": "execute_result"
    }
   ],
   "source": [
    "# Proportion of mutations expected to occur in one of the three categories (adjusting for spectrum)\n",
    "s_all.get_results_dictionary()['chi_square__binom_expected']"
   ]
  },
  {
   "cell_type": "code",
   "execution_count": 71,
   "metadata": {
    "ExecuteTime": {
     "end_time": "2020-03-31T09:55:55.974696Z",
     "start_time": "2020-03-31T09:55:53.449635Z"
    }
   },
   "outputs": [
    {
     "data": {
      "image/png": "[encoded data removed]",
      "text/plain": [
       "<Figure size 432x432 with 1 Axes>"
      ]
     },
     "metadata": {
      "needs_background": "light"
     },
     "output_type": "display_data"
    }
   ],
   "source": [
    "s_fold.plot_mutation_rate_scatter(figsize=(6, 6), metric_plot_scale='symlog', mut_rate_plot_scale='log',\n",
    "                                  xlim=[0.0001, 0.1], spectra=main_fig_spectrum,\n",
    "                                  unmutated_marker_size=40, base_marker_size=15, \n",
    "                                  unobserved_mutation_colour=unobserved_colour,\n",
    "                                  missense_mutation_colour=observed_colour,\n",
    "                                  show_legend=False, \n",
    "                                 sections_for_colours=[s_fold, s_interface1, s_ca1], \n",
    "                                 score_regions_for_colours=[[2, 100000], [0.5, 2], [0.5, 2]], \n",
    "                                 score_region_colours=[foldx_observed_colour, \n",
    "                                                       interface_observed_colour, \n",
    "                                                       calcium_observed_colour], \n",
    "                                  observed_alpha=0.1, \n",
    "                                 colour_unmutated_by_scores=True, unobserved_alpha=1, unobserved_marker='^')\n",
    "hide_top_and_right_axes()\n",
    "plt.tight_layout()\n",
    "plt.savefig(os.path.join(plot_directory, 'foldX_vs_mutation_rate_unmutated_efg11_12.pdf'), transparent=True)"
   ]
  },
  {
   "cell_type": "markdown",
   "metadata": {},
   "source": [
    "# Mutation rate vs observed mutations"
   ]
  },
  {
   "cell_type": "code",
   "execution_count": 72,
   "metadata": {
    "ExecuteTime": {
     "end_time": "2020-03-31T09:55:55.989620Z",
     "start_time": "2020-03-31T09:55:55.980172Z"
    }
   },
   "outputs": [],
   "source": [
    "obs_counts = s_fold.observed_mutations['ds_mut_id'].value_counts()"
   ]
  },
  {
   "cell_type": "code",
   "execution_count": 73,
   "metadata": {
    "ExecuteTime": {
     "end_time": "2020-03-31T09:55:56.003175Z",
     "start_time": "2020-03-31T09:55:55.993427Z"
    }
   },
   "outputs": [],
   "source": [
    "all_potential_mutations = s_fold.null_mutations.copy()"
   ]
  },
  {
   "cell_type": "code",
   "execution_count": 74,
   "metadata": {
    "ExecuteTime": {
     "end_time": "2020-03-31T09:55:56.053263Z",
     "start_time": "2020-03-31T09:55:56.008547Z"
    }
   },
   "outputs": [],
   "source": [
    "all_potential_mutations['obs_count'] = all_potential_mutations.apply(\n",
    "    lambda x: obs_counts.get(x['ds_mut_id'], 0), axis=1)"
   ]
  },
  {
   "cell_type": "code",
   "execution_count": 75,
   "metadata": {
    "ExecuteTime": {
     "end_time": "2020-03-31T09:55:56.060963Z",
     "start_time": "2020-03-31T09:55:56.056355Z"
    }
   },
   "outputs": [],
   "source": [
    "from scipy.stats import linregress"
   ]
  },
  {
   "cell_type": "code",
   "execution_count": 76,
   "metadata": {
    "ExecuteTime": {
     "end_time": "2020-03-31T09:55:56.382800Z",
     "start_time": "2020-03-31T09:55:56.064340Z"
    }
   },
   "outputs": [
    {
     "name": "stdout",
     "output_type": "stream",
     "text": [
      "r-squared= 0.15920463417941516 p-value= 4.211249267920599e-21\n"
     ]
    },
    {
     "data": {
      "image/png": "[encoded data removed]",
      "text/plain": [
       "<Figure size 288x288 with 1 Axes>"
      ]
     },
     "metadata": {
      "needs_background": "light"
     },
     "output_type": "display_data"
    }
   ],
   "source": [
    "plt.figure(figsize=(4, 4))\n",
    "x = all_potential_mutations[d.spectra[0].rate_column]\n",
    "y = all_potential_mutations['obs_count']\n",
    "plt.scatter(x, y, c='k', s=5)\n",
    "slope, intercept, r_value, p_value, std_err = linregress(x,y)\n",
    "print('r-squared=', r_value**2, 'p-value=', p_value)\n",
    "plt.plot(np.unique(x), intercept + slope*np.unique(x), 'k--')\n",
    "plt.ylabel('Frequency of mutation')\n",
    "plt.xlabel('Expected mutation rate');\n",
    "plt.xlim(left=0)\n",
    "plt.ylim(bottom=0)\n",
    "hide_top_and_right_axes()\n",
    "plt.tight_layout()\n",
    "plt.savefig(os.path.join(plot_directory, 'mutation_rate_vs_counts_efg11_12.pdf'), transparent=True)"
   ]
  },
  {
   "cell_type": "markdown",
   "metadata": {},
   "source": [
    "# Alternative mutational spectra"
   ]
  },
  {
   "cell_type": "code",
   "execution_count": 77,
   "metadata": {
    "ExecuteTime": {
     "end_time": "2020-03-31T09:55:56.394412Z",
     "start_time": "2020-03-31T09:55:56.386009Z"
    }
   },
   "outputs": [],
   "source": [
    "spectra_colours = []\n",
    "for spectra in supp_fig_spectra:\n",
    "    if isinstance(spectra, EvenMutationalSpectrum):\n",
    "        spectra_colours.append('k')\n",
    "    elif isinstance(spectra, GlobalKmerSpectrum):\n",
    "        spectra_colours.append('#bdbdbd')\n",
    "    elif isinstance(spectra, TranscriptKmerSpectrum):\n",
    "        spectra_colours.append('#636363')"
   ]
  },
  {
   "cell_type": "markdown",
   "metadata": {},
   "source": [
    "## FoldX"
   ]
  },
  {
   "cell_type": "code",
   "execution_count": 78,
   "metadata": {
    "ExecuteTime": {
     "end_time": "2020-03-31T09:57:09.795190Z",
     "start_time": "2020-03-31T09:55:56.398993Z"
    }
   },
   "outputs": [],
   "source": [
    "s_fold_specta = d_fold.run_section(section_definition_egf11_12, spectra=supp_fig_spectra, \n",
    "                           statistics=cdf_perm)"
   ]
  },
  {
   "cell_type": "code",
   "execution_count": 79,
   "metadata": {
    "ExecuteTime": {
     "end_time": "2020-03-31T09:57:11.910026Z",
     "start_time": "2020-03-31T09:57:09.797429Z"
    }
   },
   "outputs": [
    {
     "data": {
      "image/png": "[encoded data removed]",
      "text/plain": [
       "<Figure size 288x288 with 1 Axes>"
      ]
     },
     "metadata": {
      "needs_background": "light"
     },
     "output_type": "display_data"
    }
   ],
   "source": [
    "s_fold_specta.plot_cdfs(figsize=(4, 4), plot_scale='symlog', spectra=supp_fig_spectra, show_legend=False,\n",
    "                       colours=[foldx_observed_colour] + spectra_colours)\n",
    "hide_top_and_right_axes()\n",
    "plt.tight_layout()\n",
    "plt.savefig(os.path.join(plot_directory, 'foldX_multiple_spectra_cdf_plot.pdf'), transparent=True)"
   ]
  },
  {
   "cell_type": "code",
   "execution_count": 80,
   "metadata": {
    "ExecuteTime": {
     "end_time": "2020-03-31T09:57:11.920694Z",
     "start_time": "2020-03-31T09:57:11.914672Z"
    }
   },
   "outputs": [],
   "source": [
    "fold_spectra_res = s_fold_specta.get_results_dictionary()"
   ]
  },
  {
   "cell_type": "code",
   "execution_count": 81,
   "metadata": {
    "ExecuteTime": {
     "end_time": "2020-03-31T09:57:11.930392Z",
     "start_time": "2020-03-31T09:57:11.923494Z"
    }
   },
   "outputs": [],
   "source": [
    "fold_spectra_res = pd.DataFrame([\n",
    "    {'spectrum': spectra.name, 'FoldX_pvalue': fold_spectra_res['CDF_perm_{}_pvalue'.format(spectra.name)]}\n",
    "    for spectra in supp_fig_spectra\n",
    "])"
   ]
  },
  {
   "cell_type": "markdown",
   "metadata": {},
   "source": [
    "## Interface"
   ]
  },
  {
   "cell_type": "code",
   "execution_count": 82,
   "metadata": {
    "ExecuteTime": {
     "end_time": "2020-03-31T09:58:04.022913Z",
     "start_time": "2020-03-31T09:57:11.937554Z"
    }
   },
   "outputs": [],
   "source": [
    "# This excludes mutationsn with ∆∆G > 2kcal/mol\n",
    "s_interface_spectra = d_interface2.run_section(section_definition_egf11_12, spectra=supp_fig_spectra,\n",
    "                                              statistics=[cdf_perm, chi_sq])"
   ]
  },
  {
   "cell_type": "code",
   "execution_count": 83,
   "metadata": {
    "ExecuteTime": {
     "end_time": "2020-03-31T09:58:04.495245Z",
     "start_time": "2020-03-31T09:58:04.026110Z"
    }
   },
   "outputs": [
    {
     "data": {
      "image/png": "[encoded data removed]",
      "text/plain": [
       "<Figure size 576x288 with 1 Axes>"
      ]
     },
     "metadata": {
      "needs_background": "light"
     },
     "output_type": "display_data"
    }
   ],
   "source": [
    "s_interface_spectra.plot_binned_counts_common_bins(\n",
    "    figsize=(8, 4), show_legend=False, spectra=supp_fig_spectra, \n",
    "    colours=[interface_observed_colour] + spectra_colours,\n",
    "    linewidth=1 \n",
    ")\n",
    "hide_top_and_right_axes()\n",
    "plt.title('')\n",
    "plt.xticks(plt.gca().get_xticks(), ['False', 'True'])\n",
    "plt.xlabel('On interface')\n",
    "plt.subplots_adjust(left=0.3, bottom=0.3, right=1, top=1)\n",
    "plt.savefig(os.path.join(plot_directory, 'interface_multiple_spectra.pdf'), transparent=True)"
   ]
  },
  {
   "cell_type": "code",
   "execution_count": 84,
   "metadata": {
    "ExecuteTime": {
     "end_time": "2020-03-31T09:58:04.504859Z",
     "start_time": "2020-03-31T09:58:04.498058Z"
    }
   },
   "outputs": [],
   "source": [
    "interface_spectra_res = s_interface_spectra.get_results_dictionary()\n",
    "interface_spectra_res = pd.DataFrame([\n",
    "    {'spectrum': spectra.name, 'interface_pvalue': interface_spectra_res['CDF_perm_{}_pvalue'.format(spectra.name)]}\n",
    "    for spectra in supp_fig_spectra\n",
    "])"
   ]
  },
  {
   "cell_type": "markdown",
   "metadata": {},
   "source": [
    "## Calcium binding"
   ]
  },
  {
   "cell_type": "code",
   "execution_count": 85,
   "metadata": {
    "ExecuteTime": {
     "end_time": "2020-03-31T09:58:39.646258Z",
     "start_time": "2020-03-31T09:58:04.508240Z"
    }
   },
   "outputs": [],
   "source": [
    "# This excludes mutationsn with ∆∆G > 2kcal/mol and on the ligand-binding interface\n",
    "s_calcium_spectra = d_ca2.run_section(section_definition_egf11_12, spectra=supp_fig_spectra,\n",
    "                                    statistics=[cdf_perm, chi_sq])"
   ]
  },
  {
   "cell_type": "code",
   "execution_count": 86,
   "metadata": {
    "ExecuteTime": {
     "end_time": "2020-03-31T09:58:40.108220Z",
     "start_time": "2020-03-31T09:58:39.648179Z"
    }
   },
   "outputs": [
    {
     "data": {
      "image/png": "[encoded data removed]",
      "text/plain": [
       "<Figure size 576x288 with 1 Axes>"
      ]
     },
     "metadata": {
      "needs_background": "light"
     },
     "output_type": "display_data"
    }
   ],
   "source": [
    "s_calcium_spectra.plot_binned_counts_common_bins(\n",
    "    figsize=(8, 4), show_legend=False, spectra=supp_fig_spectra, \n",
    "    colours=[calcium_observed_colour] + spectra_colours,\n",
    "    linewidth=1\n",
    ")\n",
    "hide_top_and_right_axes()\n",
    "plt.title('')\n",
    "plt.xticks(plt.gca().get_xticks(), ['False', 'True'])\n",
    "plt.xlabel('Calcium binding')\n",
    "plt.subplots_adjust(left=0.3, bottom=0.3, right=1, top=1)\n",
    "plt.savefig(os.path.join(plot_directory, 'ca_binding_multiple_spectra.pdf'), transparent=True)"
   ]
  },
  {
   "cell_type": "code",
   "execution_count": 87,
   "metadata": {
    "ExecuteTime": {
     "end_time": "2020-03-31T09:58:40.118499Z",
     "start_time": "2020-03-31T09:58:40.111051Z"
    }
   },
   "outputs": [],
   "source": [
    "calcium_spectra_res = s_calcium_spectra.get_results_dictionary()\n",
    "calcium_spectra_res = pd.DataFrame([\n",
    "    {'spectrum': spectra.name, 'calcium_pvalue': calcium_spectra_res['CDF_perm_{}_pvalue'.format(spectra.name)]}\n",
    "    for spectra in supp_fig_spectra\n",
    "])"
   ]
  },
  {
   "cell_type": "markdown",
   "metadata": {},
   "source": [
    "## Alternative spectra pvalues"
   ]
  },
  {
   "cell_type": "code",
   "execution_count": 88,
   "metadata": {
    "ExecuteTime": {
     "end_time": "2020-03-31T09:58:40.142973Z",
     "start_time": "2020-03-31T09:58:40.121896Z"
    }
   },
   "outputs": [],
   "source": [
    "all_p = pd.merge(fold_spectra_res, interface_spectra_res)\n",
    "all_p = pd.merge(all_p, calcium_spectra_res)"
   ]
  },
  {
   "cell_type": "code",
   "execution_count": 89,
   "metadata": {
    "ExecuteTime": {
     "end_time": "2020-03-31T09:58:40.335607Z",
     "start_time": "2020-03-31T09:58:40.145525Z"
    }
   },
   "outputs": [
    {
     "data": {
      "text/html": [
       "<div>\n",
       "<style scoped>\n",
       "    .dataframe tbody tr th:only-of-type {\n",
       "        vertical-align: middle;\n",
       "    }\n",
       "\n",
       "    .dataframe tbody tr th {\n",
       "        vertical-align: top;\n",
       "    }\n",
       "\n",
       "    .dataframe thead th {\n",
       "        text-align: right;\n",
       "    }\n",
       "</style>\n",
       "<table border=\"1\" class=\"dataframe\">\n",
       "  <thead>\n",
       "    <tr style=\"text-align: right;\">\n",
       "      <th></th>\n",
       "      <th>spectrum</th>\n",
       "      <th>FoldX_pvalue</th>\n",
       "      <th>interface_pvalue</th>\n",
       "      <th>calcium_pvalue</th>\n",
       "    </tr>\n",
       "  </thead>\n",
       "  <tbody>\n",
       "    <tr>\n",
       "      <td>0</td>\n",
       "      <td>EvenMutationalSpectrum</td>\n",
       "      <td>0.00002</td>\n",
       "      <td>0.000300</td>\n",
       "      <td>0.00002</td>\n",
       "    </tr>\n",
       "    <tr>\n",
       "      <td>1</td>\n",
       "      <td>global_6</td>\n",
       "      <td>0.00002</td>\n",
       "      <td>0.000320</td>\n",
       "      <td>0.00002</td>\n",
       "    </tr>\n",
       "    <tr>\n",
       "      <td>2</td>\n",
       "      <td>global_6_dedup</td>\n",
       "      <td>0.00002</td>\n",
       "      <td>0.000300</td>\n",
       "      <td>0.00002</td>\n",
       "    </tr>\n",
       "    <tr>\n",
       "      <td>3</td>\n",
       "      <td>global_12</td>\n",
       "      <td>0.00002</td>\n",
       "      <td>0.000120</td>\n",
       "      <td>0.00002</td>\n",
       "    </tr>\n",
       "    <tr>\n",
       "      <td>4</td>\n",
       "      <td>global_12_dedup</td>\n",
       "      <td>0.00002</td>\n",
       "      <td>0.000220</td>\n",
       "      <td>0.00002</td>\n",
       "    </tr>\n",
       "    <tr>\n",
       "      <td>5</td>\n",
       "      <td>global_96</td>\n",
       "      <td>0.00002</td>\n",
       "      <td>0.000040</td>\n",
       "      <td>0.00002</td>\n",
       "    </tr>\n",
       "    <tr>\n",
       "      <td>6</td>\n",
       "      <td>global_96_dedup</td>\n",
       "      <td>0.00002</td>\n",
       "      <td>0.000040</td>\n",
       "      <td>0.00002</td>\n",
       "    </tr>\n",
       "    <tr>\n",
       "      <td>7</td>\n",
       "      <td>global_192</td>\n",
       "      <td>0.00002</td>\n",
       "      <td>0.000040</td>\n",
       "      <td>0.00002</td>\n",
       "    </tr>\n",
       "    <tr>\n",
       "      <td>8</td>\n",
       "      <td>global_192_dedup</td>\n",
       "      <td>0.00002</td>\n",
       "      <td>0.000040</td>\n",
       "      <td>0.00002</td>\n",
       "    </tr>\n",
       "    <tr>\n",
       "      <td>9</td>\n",
       "      <td>global_1536</td>\n",
       "      <td>0.00002</td>\n",
       "      <td>0.002260</td>\n",
       "      <td>0.00002</td>\n",
       "    </tr>\n",
       "    <tr>\n",
       "      <td>10</td>\n",
       "      <td>global_1536_dedup</td>\n",
       "      <td>0.00002</td>\n",
       "      <td>0.001020</td>\n",
       "      <td>0.00002</td>\n",
       "    </tr>\n",
       "    <tr>\n",
       "      <td>11</td>\n",
       "      <td>global_3072</td>\n",
       "      <td>0.00002</td>\n",
       "      <td>0.000740</td>\n",
       "      <td>0.00002</td>\n",
       "    </tr>\n",
       "    <tr>\n",
       "      <td>12</td>\n",
       "      <td>global_3072_dedup</td>\n",
       "      <td>0.00002</td>\n",
       "      <td>0.000520</td>\n",
       "      <td>0.00002</td>\n",
       "    </tr>\n",
       "    <tr>\n",
       "      <td>13</td>\n",
       "      <td>transcript_6</td>\n",
       "      <td>0.00002</td>\n",
       "      <td>0.000320</td>\n",
       "      <td>0.00002</td>\n",
       "    </tr>\n",
       "    <tr>\n",
       "      <td>14</td>\n",
       "      <td>transcript_6_dedup</td>\n",
       "      <td>0.00002</td>\n",
       "      <td>0.000320</td>\n",
       "      <td>0.00002</td>\n",
       "    </tr>\n",
       "    <tr>\n",
       "      <td>15</td>\n",
       "      <td>transcript_12</td>\n",
       "      <td>0.00002</td>\n",
       "      <td>0.000060</td>\n",
       "      <td>0.00002</td>\n",
       "    </tr>\n",
       "    <tr>\n",
       "      <td>16</td>\n",
       "      <td>transcript_12_dedup</td>\n",
       "      <td>0.00002</td>\n",
       "      <td>0.000100</td>\n",
       "      <td>0.00002</td>\n",
       "    </tr>\n",
       "    <tr>\n",
       "      <td>17</td>\n",
       "      <td>transcript_96</td>\n",
       "      <td>0.00002</td>\n",
       "      <td>0.008720</td>\n",
       "      <td>0.00002</td>\n",
       "    </tr>\n",
       "    <tr>\n",
       "      <td>18</td>\n",
       "      <td>transcript_96_dedup</td>\n",
       "      <td>0.00002</td>\n",
       "      <td>0.005380</td>\n",
       "      <td>0.00002</td>\n",
       "    </tr>\n",
       "    <tr>\n",
       "      <td>19</td>\n",
       "      <td>transcript_192</td>\n",
       "      <td>0.00002</td>\n",
       "      <td>0.007640</td>\n",
       "      <td>0.00002</td>\n",
       "    </tr>\n",
       "    <tr>\n",
       "      <td>20</td>\n",
       "      <td>transcript_192_dedup</td>\n",
       "      <td>0.00002</td>\n",
       "      <td>0.002520</td>\n",
       "      <td>0.00002</td>\n",
       "    </tr>\n",
       "    <tr>\n",
       "      <td>21</td>\n",
       "      <td>transcript_1536</td>\n",
       "      <td>0.00002</td>\n",
       "      <td>0.040360</td>\n",
       "      <td>0.00002</td>\n",
       "    </tr>\n",
       "    <tr>\n",
       "      <td>22</td>\n",
       "      <td>transcript_1536_dedup</td>\n",
       "      <td>0.00002</td>\n",
       "      <td>0.034480</td>\n",
       "      <td>0.00002</td>\n",
       "    </tr>\n",
       "    <tr>\n",
       "      <td>23</td>\n",
       "      <td>transcript_3072</td>\n",
       "      <td>0.00178</td>\n",
       "      <td>0.539495</td>\n",
       "      <td>0.00002</td>\n",
       "    </tr>\n",
       "    <tr>\n",
       "      <td>24</td>\n",
       "      <td>transcript_3072_dedup</td>\n",
       "      <td>0.00016</td>\n",
       "      <td>0.408596</td>\n",
       "      <td>0.00002</td>\n",
       "    </tr>\n",
       "  </tbody>\n",
       "</table>\n",
       "</div>"
      ],
      "text/plain": [
       "                  spectrum  FoldX_pvalue  interface_pvalue  calcium_pvalue\n",
       "0   EvenMutationalSpectrum       0.00002          0.000300         0.00002\n",
       "1                 global_6       0.00002          0.000320         0.00002\n",
       "2           global_6_dedup       0.00002          0.000300         0.00002\n",
       "3                global_12       0.00002          0.000120         0.00002\n",
       "4          global_12_dedup       0.00002          0.000220         0.00002\n",
       "5                global_96       0.00002          0.000040         0.00002\n",
       "6          global_96_dedup       0.00002          0.000040         0.00002\n",
       "7               global_192       0.00002          0.000040         0.00002\n",
       "8         global_192_dedup       0.00002          0.000040         0.00002\n",
       "9              global_1536       0.00002          0.002260         0.00002\n",
       "10       global_1536_dedup       0.00002          0.001020         0.00002\n",
       "11             global_3072       0.00002          0.000740         0.00002\n",
       "12       global_3072_dedup       0.00002          0.000520         0.00002\n",
       "13            transcript_6       0.00002          0.000320         0.00002\n",
       "14      transcript_6_dedup       0.00002          0.000320         0.00002\n",
       "15           transcript_12       0.00002          0.000060         0.00002\n",
       "16     transcript_12_dedup       0.00002          0.000100         0.00002\n",
       "17           transcript_96       0.00002          0.008720         0.00002\n",
       "18     transcript_96_dedup       0.00002          0.005380         0.00002\n",
       "19          transcript_192       0.00002          0.007640         0.00002\n",
       "20    transcript_192_dedup       0.00002          0.002520         0.00002\n",
       "21         transcript_1536       0.00002          0.040360         0.00002\n",
       "22   transcript_1536_dedup       0.00002          0.034480         0.00002\n",
       "23         transcript_3072       0.00178          0.539495         0.00002\n",
       "24   transcript_3072_dedup       0.00016          0.408596         0.00002"
      ]
     },
     "execution_count": 89,
     "metadata": {},
     "output_type": "execute_result"
    }
   ],
   "source": [
    "all_p"
   ]
  },
  {
   "cell_type": "code",
   "execution_count": null,
   "metadata": {},
   "outputs": [],
   "source": []
  }
 ],
 "metadata": {
  "kernelspec": {
   "display_name": "Python 3",
   "language": "python",
   "name": "python3"
  },
  "language_info": {
   "codemirror_mode": {
    "name": "ipython",
    "version": 3
   },
   "file_extension": ".py",
   "mimetype": "text/x-python",
   "name": "python",
   "nbconvert_exporter": "python",
   "pygments_lexer": "ipython3",
   "version": "3.7.3"
  },
  "notify_time": "10"
 },
 "nbformat": 4,
 "nbformat_minor": 2
}
