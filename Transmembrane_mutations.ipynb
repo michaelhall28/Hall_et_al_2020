{
 "cells": [
  {
   "cell_type": "code",
   "execution_count": 1,
   "metadata": {
    "ExecuteTime": {
     "end_time": "2020-03-30T11:48:46.909269Z",
     "start_time": "2020-03-30T11:48:46.038040Z"
    }
   },
   "outputs": [],
   "source": [
    "import numpy as np\n",
    "import pandas as pd\n",
    "import matplotlib.pyplot as plt\n",
    "%matplotlib inline\n",
    "import matplotlib\n",
    "matplotlib.rcParams['figure.figsize'] = [8, 6]"
   ]
  },
  {
   "cell_type": "code",
   "execution_count": 2,
   "metadata": {
    "ExecuteTime": {
     "end_time": "2020-03-30T11:48:46.915936Z",
     "start_time": "2020-03-30T11:48:46.911519Z"
    }
   },
   "outputs": [],
   "source": [
    "import os"
   ]
  },
  {
   "cell_type": "code",
   "execution_count": 3,
   "metadata": {
    "ExecuteTime": {
     "end_time": "2020-03-30T11:48:49.657652Z",
     "start_time": "2020-03-30T11:48:47.234091Z"
    }
   },
   "outputs": [],
   "source": [
    "from darwinian_shift import DarwinianShift, BigwigLookup, hide_top_and_right_axes"
   ]
  },
  {
   "cell_type": "code",
   "execution_count": 4,
   "metadata": {
    "ExecuteTime": {
     "end_time": "2020-03-30T11:48:52.445701Z",
     "start_time": "2020-03-30T11:48:52.440953Z"
    }
   },
   "outputs": [],
   "source": [
    "plot_dir = \"./Transmembrane_figures/\"\n",
    "if not os.path.exists(plot_directory):\n",
    "    os.makedirs(plot_directory)\n",
    "\n",
    "# Colours\n",
    "unobserved_colour = '#BBBBBB' \n",
    "observed_colour = '#EE7733'"
   ]
  },
  {
   "cell_type": "code",
   "execution_count": 5,
   "metadata": {
    "ExecuteTime": {
     "end_time": "2020-03-30T11:55:48.997857Z",
     "start_time": "2020-03-30T11:55:48.992195Z"
    }
   },
   "outputs": [],
   "source": [
    "# The bigwig can be downloaded from here http://hgdownload.soe.ucsc.edu/goldenPath/hg19/phyloP100way/\n",
    "# or by running \n",
    "# wget http://hgdownload.soe.ucsc.edu/goldenPath/hg19/phyloP100way/hg19.100way.phyloP100way.bw \n",
    "# Warning This file is approx 9Gb.\n",
    "bw = BigwigLookup(\"hg19.100way.phyloP100way.bw\", name='Phylop score')"
   ]
  },
  {
   "cell_type": "code",
   "execution_count": 6,
   "metadata": {
    "ExecuteTime": {
     "end_time": "2020-03-30T11:55:51.468100Z",
     "start_time": "2020-03-30T11:55:51.462872Z"
    }
   },
   "outputs": [],
   "source": [
    "transmembrane_section = {\n",
    "    'transcript_id': 'ENST00000277541', \n",
    "        'start': 1736, 'end': 1756\n",
    "}"
   ]
  },
  {
   "cell_type": "code",
   "execution_count": 7,
   "metadata": {
    "ExecuteTime": {
     "end_time": "2020-03-30T11:56:03.509296Z",
     "start_time": "2020-03-30T11:55:59.380945Z"
    }
   },
   "outputs": [],
   "source": [
    "data = pd.read_excel(\"aau3879_TableS2.xlsx\", skiprows=17, sheet_name='Mutations_collapsed_by_distance')"
   ]
  },
  {
   "cell_type": "code",
   "execution_count": 8,
   "metadata": {
    "ExecuteTime": {
     "end_time": "2020-03-30T11:57:14.710912Z",
     "start_time": "2020-03-30T11:56:03.511427Z"
    }
   },
   "outputs": [],
   "source": [
    "d = DarwinianShift(\n",
    "    data=data, \n",
    "    source_genome='grch37',\n",
    "    lookup=bw,\n",
    "    included_mutation_types='missense'\n",
    ")"
   ]
  },
  {
   "cell_type": "code",
   "execution_count": 9,
   "metadata": {
    "ExecuteTime": {
     "end_time": "2020-03-30T11:57:18.101162Z",
     "start_time": "2020-03-30T11:57:14.713776Z"
    }
   },
   "outputs": [],
   "source": [
    "s = d.run_section(transmembrane_section)"
   ]
  },
  {
   "cell_type": "code",
   "execution_count": 10,
   "metadata": {
    "ExecuteTime": {
     "end_time": "2020-03-30T11:57:18.621644Z",
     "start_time": "2020-03-30T11:57:18.104414Z"
    }
   },
   "outputs": [
    {
     "data": {
      "image/png": "[encoded data removed]",
      "text/plain": [
       "<Figure size 432x216 with 2 Axes>"
      ]
     },
     "metadata": {
      "needs_background": "light"
     },
     "output_type": "display_data"
    }
   ],
   "source": [
    "s.plot_scatter(show_residues=True, show_legend=False, figsize=(6, 3),\n",
    "                    unobserved_mutation_colour=unobserved_colour, missense_mutation_colour=observed_colour,\n",
    "                    unmutated_marker_size=15, base_marker_size=15)\n",
    "hide_top_and_right_axes()\n",
    "plt.tight_layout()\n",
    "plt.savefig(os.path.join(plot_dir, 'transmembrane_phylop_scatter.pdf'), transparent=True);"
   ]
  },
  {
   "cell_type": "code",
   "execution_count": 11,
   "metadata": {
    "ExecuteTime": {
     "end_time": "2020-03-30T11:57:19.084683Z",
     "start_time": "2020-03-30T11:57:18.628263Z"
    }
   },
   "outputs": [
    {
     "data": {
      "image/png": "[encoded data removed]",
      "text/plain": [
       "<Figure size 216x216 with 1 Axes>"
      ]
     },
     "metadata": {
      "needs_background": "light"
     },
     "output_type": "display_data"
    }
   ],
   "source": [
    "s.plot_mutation_rate_scatter(figsize=(3, 3), show_legend=False,\n",
    "                            unobserved_mutation_colour=unobserved_colour, missense_mutation_colour=observed_colour,\n",
    "                            unmutated_marker_size=15, base_marker_size=15)\n",
    "hide_top_and_right_axes()\n",
    "plt.title('')\n",
    "plt.tight_layout()\n",
    "plt.savefig(os.path.join(plot_dir, 'transmembrane_phylop_vs_mutation_rate.pdf'), transparent=True);"
   ]
  },
  {
   "cell_type": "code",
   "execution_count": null,
   "metadata": {},
   "outputs": [],
   "source": []
  }
 ],
 "metadata": {
  "kernelspec": {
   "display_name": "Python 3",
   "language": "python",
   "name": "python3"
  },
  "language_info": {
   "codemirror_mode": {
    "name": "ipython",
    "version": 3
   },
   "file_extension": ".py",
   "mimetype": "text/x-python",
   "name": "python",
   "nbconvert_exporter": "python",
   "pygments_lexer": "ipython3",
   "version": "3.7.3"
  }
 },
 "nbformat": 4,
 "nbformat_minor": 2
}
