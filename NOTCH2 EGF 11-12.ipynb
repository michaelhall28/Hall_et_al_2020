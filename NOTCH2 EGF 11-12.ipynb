{
 "cells": [
  {
   "cell_type": "markdown",
   "metadata": {},
   "source": [
    "# Imports"
   ]
  },
  {
   "cell_type": "code",
   "execution_count": 1,
   "metadata": {
    "ExecuteTime": {
     "end_time": "2020-03-30T10:30:20.668722Z",
     "start_time": "2020-03-30T10:30:15.893190Z"
    }
   },
   "outputs": [],
   "source": [
    "import os\n",
    "import numpy as np\n",
    "import pandas as pd\n",
    "import matplotlib.pyplot as plt\n",
    "%matplotlib inline"
   ]
  },
  {
   "cell_type": "code",
   "execution_count": 2,
   "metadata": {
    "ExecuteTime": {
     "end_time": "2020-03-30T10:30:26.986406Z",
     "start_time": "2020-03-30T10:30:20.671100Z"
    }
   },
   "outputs": [],
   "source": [
    "from darwinian_shift import DarwinianShift, GlobalKmerSpectrum, TranscriptKmerSpectrum, EvenMutationalSpectrum\n",
    "from darwinian_shift import CDFPermutationTest, ChiSquareTest, PermutationTest\n",
    "from darwinian_shift import FoldXLookup, SequenceDistanceLookup, MutationExclusionLookup, StructureDistanceLookup\n",
    "from darwinian_shift import MutationExclusionLookup, ORLookup\n",
    "from darwinian_shift import hide_top_and_right_axes"
   ]
  },
  {
   "cell_type": "code",
   "execution_count": 3,
   "metadata": {
    "ExecuteTime": {
     "end_time": "2020-03-30T10:30:26.992943Z",
     "start_time": "2020-03-30T10:30:26.989406Z"
    }
   },
   "outputs": [],
   "source": [
    "from darwinian_shift.additional_plotting_functions import plot_scatter_two_scores"
   ]
  },
  {
   "cell_type": "code",
   "execution_count": 4,
   "metadata": {
    "ExecuteTime": {
     "end_time": "2020-03-30T10:30:27.001364Z",
     "start_time": "2020-03-30T10:30:26.996518Z"
    }
   },
   "outputs": [],
   "source": [
    "from darwinian_shift.utils.sifts_functions import get_sifts_alignment\n",
    "import os"
   ]
  },
  {
   "cell_type": "markdown",
   "metadata": {},
   "source": [
    "# Setup"
   ]
  },
  {
   "cell_type": "code",
   "execution_count": 5,
   "metadata": {
    "ExecuteTime": {
     "end_time": "2020-03-30T10:30:30.013223Z",
     "start_time": "2020-03-30T10:30:27.003914Z"
    }
   },
   "outputs": [],
   "source": [
    "# Load data\n",
    "data = pd.read_excel(\"aau3879_TableS2.xlsx\", skiprows=17, sheet_name='Mutations_collapsed_by_distance')"
   ]
  },
  {
   "cell_type": "code",
   "execution_count": 6,
   "metadata": {
    "ExecuteTime": {
     "end_time": "2020-03-30T10:30:30.019954Z",
     "start_time": "2020-03-30T10:30:30.015277Z"
    }
   },
   "outputs": [],
   "source": [
    "# Define the region to test\n",
    "section_definition_egf11_12 = {\n",
    "    'transcript_id': 'ENST00000256646', 'pdb_id': '5mwb', 'pdb_chain': 'A', \n",
    "    'start': 415, 'end': 492 # Restrict to the residues in EGF11-12\n",
    "}"
   ]
  },
  {
   "cell_type": "code",
   "execution_count": 7,
   "metadata": {
    "ExecuteTime": {
     "end_time": "2020-03-30T10:30:30.026344Z",
     "start_time": "2020-03-30T10:30:30.022914Z"
    }
   },
   "outputs": [],
   "source": [
    "# Define the mutational spectra\n",
    "main_fig_spectrum=GlobalKmerSpectrum(\n",
    "        k=3,  # Use a trinucleotide context,\n",
    "        ignore_strand=False,  # Transcribed strand of the protein matters, so have 192 different mutation types\n",
    "        deduplicate_spectrum=False,  # Do not remove duplicate mutations when calculating the spectrum\n",
    "        name=''  # Use a blank name, so in the plots it will just say \"Expected\"\n",
    "    )"
   ]
  },
  {
   "cell_type": "code",
   "execution_count": 8,
   "metadata": {
    "ExecuteTime": {
     "end_time": "2020-03-30T10:30:30.035636Z",
     "start_time": "2020-03-30T10:30:30.031231Z"
    }
   },
   "outputs": [],
   "source": [
    "# Define the statistical tests\n",
    "\n",
    "cdf_perm = CDFPermutationTest(num_permutations=100000, testing_random_seed=0)  # Used to calculate p-values\n",
    "\n",
    "chi_sq = ChiSquareTest(bins=[-0.1, 0.5, 1.1])  # Used to calculate counts for the discrete metrics\n",
    "\n",
    "stats = [cdf_perm, chi_sq]"
   ]
  },
  {
   "cell_type": "code",
   "execution_count": 9,
   "metadata": {
    "ExecuteTime": {
     "end_time": "2020-03-30T10:31:32.195381Z",
     "start_time": "2020-03-30T10:30:30.039673Z"
    }
   },
   "outputs": [],
   "source": [
    "# Make a DarwinianShift object for the project. \n",
    "# This calculates the mutational spectrum, sets up the statistical tests to use, and filters the data. \n",
    "d = DarwinianShift(\n",
    "    data=data, \n",
    "    source_genome='GRCh37',\n",
    "    spectra=main_fig_spectrum,\n",
    "    stats=[cdf_perm, chi_sq],\n",
    "    \n",
    "    # Just test with the missense mutations. Nonsense and synonymous mutations are still used to calculate the spectrum\n",
    "    included_mutation_types='missense'\n",
    ")"
   ]
  },
  {
   "cell_type": "code",
   "execution_count": 10,
   "metadata": {
    "ExecuteTime": {
     "end_time": "2020-03-30T10:31:32.207523Z",
     "start_time": "2020-03-30T10:31:32.199316Z"
    }
   },
   "outputs": [],
   "source": [
    "plot_directory=\"./NOTCH2_EGF11_12_figures/\"\n",
    "if not os.path.exists(plot_directory):\n",
    "    os.makedirs(plot_directory)\n",
    "    \n",
    "sifts_directory=\".\"\n",
    "pdb_directory = \".\""
   ]
  },
  {
   "cell_type": "code",
   "execution_count": 11,
   "metadata": {
    "ExecuteTime": {
     "end_time": "2020-03-30T10:31:32.221199Z",
     "start_time": "2020-03-30T10:31:32.212793Z"
    }
   },
   "outputs": [],
   "source": [
    "# Colours\n",
    "\n",
    "unobserved_colour = '#BBBBBB'  \n",
    "observed_colour = '#EE7733'\n",
    "\n",
    "foldx_expected_colour = '#EE6677'\n",
    "foldx_observed_colour = '#CC3311'\n",
    "\n",
    "interface_expected_colour = '#88CCEE'\n",
    "interface_observed_colour = '#0077BB'\n",
    "\n",
    "calcium_expected_colour = '#8DE0D7'\n",
    "calcium_observed_colour = '#009988'"
   ]
  },
  {
   "cell_type": "markdown",
   "metadata": {},
   "source": [
    "# Defining all of the selected features"
   ]
  },
  {
   "cell_type": "markdown",
   "metadata": {},
   "source": [
    "## FoldX"
   ]
  },
  {
   "cell_type": "code",
   "execution_count": 12,
   "metadata": {
    "ExecuteTime": {
     "end_time": "2020-03-30T10:31:32.229229Z",
     "start_time": "2020-03-30T10:31:32.224842Z"
    }
   },
   "outputs": [],
   "source": [
    "# Define the FoldX lookup\n",
    "fold = FoldXLookup(foldx_results_directory=\"./FoldX_results/\",\n",
    "                      sifts_directory=sifts_directory,\n",
    "                      foldx_file_name_start=\"PS_f*\", download_sifts=True)"
   ]
  },
  {
   "cell_type": "code",
   "execution_count": 13,
   "metadata": {
    "ExecuteTime": {
     "end_time": "2020-03-30T10:31:35.586045Z",
     "start_time": "2020-03-30T10:31:32.232346Z"
    }
   },
   "outputs": [],
   "source": [
    "d_fold_all = d.change_lookup(fold)\n",
    "s_fold_all = d_fold_all.run_section(section_definition_egf11_12, statistics=[cdf_perm])"
   ]
  },
  {
   "cell_type": "code",
   "execution_count": 14,
   "metadata": {
    "ExecuteTime": {
     "end_time": "2020-03-30T10:31:35.598002Z",
     "start_time": "2020-03-30T10:31:35.588125Z"
    },
    "scrolled": true
   },
   "outputs": [
    {
     "data": {
      "text/plain": [
       "120510091:T>C    2\n",
       "120510178:C>T    2\n",
       "120510721:C>T    2\n",
       "120510184:C>T    2\n",
       "120510217:C>T    1\n",
       "120510098:A>T    1\n",
       "120510720:T>A    1\n",
       "120510149:C>T    1\n",
       "120509103:C>A    1\n",
       "120510131:A>G    1\n",
       "120510059:G>C    1\n",
       "120510715:C>A    1\n",
       "120510083:C>T    1\n",
       "120510082:C>A    1\n",
       "120510235:T>C    1\n",
       "120510233:G>T    1\n",
       "120510091:T>A    1\n",
       "120510211:C>A    1\n",
       "120510134:C>T    1\n",
       "120510071:A>T    1\n",
       "120510230:A>G    1\n",
       "120510711:T>G    1\n",
       "120510161:C>T    1\n",
       "120510151:C>G    1\n",
       "120510169:C>T    1\n",
       "120510151:C>T    1\n",
       "120510166:T>C    1\n",
       "120510056:C>T    1\n",
       "120510185:A>G    1\n",
       "120510225:C>A    1\n",
       "120510196:C>A    1\n",
       "120510148:T>G    1\n",
       "120510115:C>T    1\n",
       "120510229:C>A    1\n",
       "Name: ds_mut_id, dtype: int64"
      ]
     },
     "execution_count": 14,
     "metadata": {},
     "output_type": "execute_result"
    }
   ],
   "source": [
    "s_fold_all.observed_mutations['ds_mut_id'].value_counts()  # No mutations recurring more than twice"
   ]
  },
  {
   "cell_type": "markdown",
   "metadata": {},
   "source": [
    "## Interface"
   ]
  },
  {
   "cell_type": "markdown",
   "metadata": {},
   "source": [
    "Use the interface residues defined in Suckling et al 2017"
   ]
  },
  {
   "cell_type": "code",
   "execution_count": 15,
   "metadata": {
    "ExecuteTime": {
     "end_time": "2020-03-30T10:31:35.605767Z",
     "start_time": "2020-03-30T10:31:35.599909Z"
    }
   },
   "outputs": [],
   "source": [
    "site1_residues = [470, 472, 473, 481]\n",
    "site2_residues = [418, 421, 424, 425, 426, 428, 429, 439, 440, 452, 454, 456]\n",
    "all_interface_residues = site1_residues + site2_residues"
   ]
  },
  {
   "cell_type": "code",
   "execution_count": 16,
   "metadata": {
    "ExecuteTime": {
     "end_time": "2020-03-30T10:31:35.612686Z",
     "start_time": "2020-03-30T10:31:35.609059Z"
    }
   },
   "outputs": [],
   "source": [
    "section_definition_egf11_12['interface_residues'] = all_interface_residues\n",
    "section_definition_egf11_12['site1_residues'] = site1_residues\n",
    "section_definition_egf11_12['site2_residues'] = site2_residues"
   ]
  },
  {
   "cell_type": "code",
   "execution_count": 17,
   "metadata": {
    "ExecuteTime": {
     "end_time": "2020-03-30T10:31:35.619858Z",
     "start_time": "2020-03-30T10:31:35.615528Z"
    }
   },
   "outputs": [],
   "source": [
    "# Define a lookup object which determines whether mutations are on the NOTCH1-ligand interface. \n",
    "interface_lookup = SequenceDistanceLookup(\n",
    "    boolean=True,   # Just a boolean on/off interface. \n",
    "    target_key='interface_residues',   # Use this entry in the section_definition dict to define the target residues\n",
    "    position_type='residue',   # Use the residue number (as opposed to cdspos or chromosomal position)\n",
    "    name='On interface'  # Label to appear on plot axes\n",
    ")"
   ]
  },
  {
   "cell_type": "markdown",
   "metadata": {},
   "source": [
    "## Calcium binding"
   ]
  },
  {
   "cell_type": "markdown",
   "metadata": {},
   "source": [
    "Using the server MetalPDB https://academic.oup.com/nar/article/46/D1/D459/4564802  \n",
    "http://metalweb.cerm.unifi.it"
   ]
  },
  {
   "cell_type": "code",
   "execution_count": 18,
   "metadata": {
    "ExecuteTime": {
     "end_time": "2020-03-30T10:31:35.626211Z",
     "start_time": "2020-03-30T10:31:35.622422Z"
    }
   },
   "outputs": [],
   "source": [
    "# Add the residues to the section definition dictionary.  \n",
    "ca_binding_residues = [415, 416, 418, 435, 436, 439, 456, 457, 459, 473, 474]\n",
    "section_definition_egf11_12['ca_binding_residues'] = ca_binding_residues"
   ]
  },
  {
   "cell_type": "code",
   "execution_count": 19,
   "metadata": {
    "ExecuteTime": {
     "end_time": "2020-03-30T10:31:35.634247Z",
     "start_time": "2020-03-30T10:31:35.629268Z"
    }
   },
   "outputs": [],
   "source": [
    "ca_lookup = SequenceDistanceLookup(\n",
    "    boolean=True,   # Just a boolean binding/not binding. \n",
    "    target_key='ca_binding_residues',   # Use this entry in the section_definition dict to define the target residues\n",
    "    position_type='residue',   # Use the residue number (as opposed to cdspos or chromosomal position)\n",
    "    name='Calcium binding'  # Label to appear on plot axes\n",
    ")"
   ]
  },
  {
   "cell_type": "markdown",
   "metadata": {},
   "source": [
    "# Testing selection"
   ]
  },
  {
   "cell_type": "markdown",
   "metadata": {},
   "source": [
    "## FoldX"
   ]
  },
  {
   "cell_type": "code",
   "execution_count": 20,
   "metadata": {
    "ExecuteTime": {
     "end_time": "2020-03-30T10:31:35.647804Z",
     "start_time": "2020-03-30T10:31:35.637358Z"
    }
   },
   "outputs": [],
   "source": [
    "# First define a lookup that is 1 if the mutation is on the interface and or calcium binding\n",
    "interface_or_ca_lookup = ORLookup(\n",
    "    lookups=[interface_lookup, ca_lookup],  \n",
    "    thresholds=[0.5, 0.5],  # Set thresholds at 0.5\n",
    "    directions=[1, 1],  # Want to exclude mutations which score 1 for interface or calcium binding.\n",
    ")\n",
    "\n",
    "\n",
    "# Define the combined lookup.\n",
    "excllook_foldx = MutationExclusionLookup(\n",
    "    lookup=fold,   # Use the calcium binding lookup for the test\n",
    "    exclusion_lookup=interface_or_ca_lookup,\n",
    "    exclusion_threshold=0.5,  #  Scores from the exclusion are either 0, or 1, so can put threshold anywhere in between.\n",
    "    exclusion_direction=1,   # Exclude mutations with a score above the exclusion_threhold from the exclusion_lookup.\n",
    "    name=fold.name\n",
    ")"
   ]
  },
  {
   "cell_type": "code",
   "execution_count": 21,
   "metadata": {
    "ExecuteTime": {
     "end_time": "2020-03-30T10:31:35.660359Z",
     "start_time": "2020-03-30T10:31:35.650764Z"
    }
   },
   "outputs": [],
   "source": [
    "d_fold = d.change_lookup(excllook_foldx)"
   ]
  },
  {
   "cell_type": "code",
   "execution_count": 22,
   "metadata": {
    "ExecuteTime": {
     "end_time": "2020-03-30T10:31:39.225687Z",
     "start_time": "2020-03-30T10:31:35.662738Z"
    }
   },
   "outputs": [],
   "source": [
    "s_fold = d_fold.run_section(section_definition_egf11_12, statistics=[cdf_perm])"
   ]
  },
  {
   "cell_type": "code",
   "execution_count": 23,
   "metadata": {
    "ExecuteTime": {
     "end_time": "2020-03-30T10:31:39.795584Z",
     "start_time": "2020-03-30T10:31:39.231714Z"
    }
   },
   "outputs": [
    {
     "data": {
      "image/png": "[encoded data removed]",
      "text/plain": [
       "<Figure size 432x216 with 1 Axes>"
      ]
     },
     "metadata": {
      "needs_background": "light"
     },
     "output_type": "display_data"
    }
   ],
   "source": [
    "s_fold.plot_scatter(figsize=(6, 3), plot_scale='symlog', show_legend=False, \n",
    "                    unobserved_mutation_colour=unobserved_colour, \n",
    "                    missense_mutation_colour=foldx_observed_colour, \n",
    "                    unmutated_marker_size=15, base_marker_size=15,\n",
    "                   )\n",
    "hide_top_and_right_axes()\n",
    "plt.tight_layout()\n",
    "plt.savefig(os.path.join(plot_directory, 'scatter_foldx_efg11_12.pdf'), transparent=True)"
   ]
  },
  {
   "cell_type": "code",
   "execution_count": 24,
   "metadata": {
    "ExecuteTime": {
     "end_time": "2020-03-30T10:31:42.970711Z",
     "start_time": "2020-03-30T10:31:39.801300Z"
    }
   },
   "outputs": [
    {
     "data": {
      "image/png": "[encoded data removed]",
      "text/plain": [
       "<Figure size 180x216 with 1 Axes>"
      ]
     },
     "metadata": {
      "needs_background": "light"
     },
     "output_type": "display_data"
    }
   ],
   "source": [
    "s_fold.plot_boxplot(figsize=(2.5, 3), plot_scale='symlog',\n",
    "                    colours=[foldx_observed_colour, foldx_expected_colour])\n",
    "hide_top_and_right_axes()\n",
    "plt.tight_layout()\n",
    "plt.savefig(os.path.join(plot_directory, 'boxplot_foldx_efg11_12.pdf'), transparent=True)"
   ]
  },
  {
   "cell_type": "code",
   "execution_count": 25,
   "metadata": {
    "ExecuteTime": {
     "end_time": "2020-03-30T10:31:42.980195Z",
     "start_time": "2020-03-30T10:31:42.976205Z"
    }
   },
   "outputs": [],
   "source": [
    "s_fold_results = s_fold.get_results_dictionary()"
   ]
  },
  {
   "cell_type": "code",
   "execution_count": 26,
   "metadata": {
    "ExecuteTime": {
     "end_time": "2020-03-30T10:31:42.993461Z",
     "start_time": "2020-03-30T10:31:42.984267Z"
    },
    "scrolled": true
   },
   "outputs": [
    {
     "data": {
      "text/plain": [
       "25"
      ]
     },
     "execution_count": 26,
     "metadata": {},
     "output_type": "execute_result"
    }
   ],
   "source": [
    "s_fold_results['num_mutations']"
   ]
  },
  {
   "cell_type": "code",
   "execution_count": 27,
   "metadata": {
    "ExecuteTime": {
     "end_time": "2020-03-30T10:31:43.006462Z",
     "start_time": "2020-03-30T10:31:42.996042Z"
    }
   },
   "outputs": [
    {
     "data": {
      "text/plain": [
       "1.999980000199998e-05"
      ]
     },
     "execution_count": 27,
     "metadata": {},
     "output_type": "execute_result"
    }
   ],
   "source": [
    "s_fold_results['CDF_perm__pvalue']  # P-value of the permutation test"
   ]
  },
  {
   "cell_type": "markdown",
   "metadata": {},
   "source": [
    "## Interface residues"
   ]
  },
  {
   "cell_type": "code",
   "execution_count": 28,
   "metadata": {
    "ExecuteTime": {
     "end_time": "2020-03-30T10:31:43.015939Z",
     "start_time": "2020-03-30T10:31:43.009565Z"
    }
   },
   "outputs": [],
   "source": [
    "# First define a lookup that is 1 if the mutation is destabilising or calcium binding\n",
    "destabilising_or_ca_lookup = ORLookup(\n",
    "    lookups=[fold, ca_lookup],  \n",
    "    thresholds=[2, 0.5],  # Use 2kcal/mol as the ∆∆G threshold. Ca score is 0 or 1, so set threshold at 0.5\n",
    "    directions=[1, 1],  # Want to exclude mutations which score 1 for calcium binding or > 2 for ∆G.\n",
    ")\n",
    "\n",
    "\n",
    "# Define the combined lookup.\n",
    "excllook_interface = MutationExclusionLookup(\n",
    "    lookup=interface_lookup,   # Use the calcium binding lookup for the test\n",
    "    exclusion_lookup=destabilising_or_ca_lookup,   \n",
    "    exclusion_threshold=0.5,  #  Scores from the exclusion are either 0, or 1, so can put threshold anywhere in between.\n",
    "    exclusion_direction=1,   # Exclude mutations with a score above the exclusion_threhold from the exclusion_lookup.\n",
    "    name=interface_lookup.name\n",
    ")"
   ]
  },
  {
   "cell_type": "code",
   "execution_count": 29,
   "metadata": {
    "ExecuteTime": {
     "end_time": "2020-03-30T10:31:43.029546Z",
     "start_time": "2020-03-30T10:31:43.019918Z"
    }
   },
   "outputs": [],
   "source": [
    "d_interface1 = d.change_lookup(excllook_interface)"
   ]
  },
  {
   "cell_type": "code",
   "execution_count": 30,
   "metadata": {
    "ExecuteTime": {
     "end_time": "2020-03-30T10:31:47.691460Z",
     "start_time": "2020-03-30T10:31:43.032201Z"
    }
   },
   "outputs": [],
   "source": [
    "s_interface1 = d_interface1.run_section(section_definition_egf11_12)"
   ]
  },
  {
   "cell_type": "code",
   "execution_count": 31,
   "metadata": {
    "ExecuteTime": {
     "end_time": "2020-03-30T10:31:47.920247Z",
     "start_time": "2020-03-30T10:31:47.693781Z"
    }
   },
   "outputs": [
    {
     "data": {
      "image/png": "[encoded data removed]",
      "text/plain": [
       "<Figure size 432x216 with 1 Axes>"
      ]
     },
     "metadata": {
      "needs_background": "light"
     },
     "output_type": "display_data"
    }
   ],
   "source": [
    "s_interface1.plot_scatter(figsize=(6, 3), show_legend=False, \n",
    "                          unobserved_mutation_colour=unobserved_colour, \n",
    "                          missense_mutation_colour=interface_observed_colour, \n",
    "                         base_marker_size=15, unmutated_marker_size=15)\n",
    "plt.yticks([0, 1], ['False', 'True']);\n",
    "hide_top_and_right_axes()\n",
    "plt.tight_layout()\n",
    "plt.savefig(os.path.join(plot_directory, 'scatter_interface1_efg11_12.pdf'), transparent=True)"
   ]
  },
  {
   "cell_type": "code",
   "execution_count": 32,
   "metadata": {
    "ExecuteTime": {
     "end_time": "2020-03-30T10:31:48.128461Z",
     "start_time": "2020-03-30T10:31:47.923734Z"
    }
   },
   "outputs": [
    {
     "data": {
      "image/png": "[encoded data removed]",
      "text/plain": [
       "<Figure size 216x288 with 1 Axes>"
      ]
     },
     "metadata": {
      "needs_background": "light"
     },
     "output_type": "display_data"
    }
   ],
   "source": [
    "s_interface1.plot_binned_counts(figsize=(3, 4), show_legend=False,\n",
    "                                     colours=[interface_observed_colour, interface_expected_colour])\n",
    "hide_top_and_right_axes()\n",
    "plt.title('')\n",
    "plt.xticks(plt.gca().get_xticks(), ['False', 'True'])\n",
    "plt.xlabel('On interface')\n",
    "plt.subplots_adjust(left=0.3, bottom=0.3, right=1, top=1)\n",
    "plt.savefig(os.path.join(plot_directory, 'bar_interface1_efg11_12.pdf'), transparent=True)"
   ]
  },
  {
   "cell_type": "code",
   "execution_count": 33,
   "metadata": {
    "ExecuteTime": {
     "end_time": "2020-03-30T10:31:48.137175Z",
     "start_time": "2020-03-30T10:31:48.131423Z"
    }
   },
   "outputs": [],
   "source": [
    "s_interface1_results = s_interface1.get_results_dictionary()"
   ]
  },
  {
   "cell_type": "code",
   "execution_count": 34,
   "metadata": {
    "ExecuteTime": {
     "end_time": "2020-03-30T10:31:48.148575Z",
     "start_time": "2020-03-30T10:31:48.140308Z"
    }
   },
   "outputs": [
    {
     "data": {
      "text/plain": [
       "6"
      ]
     },
     "execution_count": 34,
     "metadata": {},
     "output_type": "execute_result"
    }
   ],
   "source": [
    "s_interface1_results['num_mutations']"
   ]
  },
  {
   "cell_type": "code",
   "execution_count": 35,
   "metadata": {
    "ExecuteTime": {
     "end_time": "2020-03-30T10:31:48.158894Z",
     "start_time": "2020-03-30T10:31:48.151529Z"
    }
   },
   "outputs": [
    {
     "data": {
      "text/plain": [
       "0.05865941340586594"
      ]
     },
     "execution_count": 35,
     "metadata": {},
     "output_type": "execute_result"
    }
   ],
   "source": [
    "s_interface1_results['CDF_perm__pvalue']  # P-value of the permutation test"
   ]
  },
  {
   "cell_type": "markdown",
   "metadata": {},
   "source": [
    "# Calcium binding residues"
   ]
  },
  {
   "cell_type": "code",
   "execution_count": 36,
   "metadata": {
    "ExecuteTime": {
     "end_time": "2020-03-30T10:31:48.168781Z",
     "start_time": "2020-03-30T10:31:48.161447Z"
    }
   },
   "outputs": [],
   "source": [
    "# First define a lookup that is 1 if the mutation is destabilising or on the interface and 0 otherwise.\n",
    "destabilising_or_interface_lookup = ORLookup(\n",
    "    lookups=[fold, interface_lookup],  # Use the FoldX and the interface lookups.  \n",
    "    thresholds=[2, 0.5],  # Again pick a threshold of 2kcal/mol for the FoldX result, interface results are either 0 or 1 so set threshold at 0.5. \n",
    "    directions=[1, 1],  # Want to exclude mutations with scores greater than the thresholds, so directions are both 1.\n",
    ")\n",
    "\n",
    "\n",
    "# Define the combined lookup.\n",
    "excllook_ca = MutationExclusionLookup(\n",
    "    lookup=ca_lookup,   # Use the calcium binding lookup for the test\n",
    "    exclusion_lookup=destabilising_or_interface_lookup,   \n",
    "    exclusion_threshold=0.5,  #  Scores from the exclusion are either 0, or 1, so can put threshold anywhere in between.\n",
    "    exclusion_direction=1,   # Exclude mutations with a score above the exclusion_threhold from the exclusion_lookup.\n",
    "    name=ca_lookup.name\n",
    ")"
   ]
  },
  {
   "cell_type": "code",
   "execution_count": 37,
   "metadata": {
    "ExecuteTime": {
     "end_time": "2020-03-30T10:31:48.183192Z",
     "start_time": "2020-03-30T10:31:48.171922Z"
    }
   },
   "outputs": [],
   "source": [
    "d_ca2 = d.change_lookup(excllook_ca)"
   ]
  },
  {
   "cell_type": "code",
   "execution_count": 38,
   "metadata": {
    "ExecuteTime": {
     "end_time": "2020-03-30T10:31:52.840695Z",
     "start_time": "2020-03-30T10:31:48.185875Z"
    }
   },
   "outputs": [],
   "source": [
    "s_ca2 = d_ca2.run_section(section_definition_egf11_12)"
   ]
  },
  {
   "cell_type": "code",
   "execution_count": 39,
   "metadata": {
    "ExecuteTime": {
     "end_time": "2020-03-30T10:31:53.027560Z",
     "start_time": "2020-03-30T10:31:52.842675Z"
    }
   },
   "outputs": [
    {
     "data": {
      "image/png": "[encoded data removed]",
      "text/plain": [
       "<Figure size 432x216 with 1 Axes>"
      ]
     },
     "metadata": {
      "needs_background": "light"
     },
     "output_type": "display_data"
    }
   ],
   "source": [
    "s_ca2.plot_scatter(figsize=(6, 3), show_legend=False, \n",
    "                  unobserved_mutation_colour=unobserved_colour, \n",
    "                   missense_mutation_colour=calcium_observed_colour,\n",
    "                  base_marker_size=15, unmutated_marker_size=15)\n",
    "plt.yticks([0, 1], ['False', 'True']);\n",
    "hide_top_and_right_axes()\n",
    "plt.tight_layout()\n",
    "plt.savefig(os.path.join(plot_directory, 'scatter_ca2_efg11_12.pdf'), transparent=True)"
   ]
  },
  {
   "cell_type": "code",
   "execution_count": 40,
   "metadata": {
    "ExecuteTime": {
     "end_time": "2020-03-30T10:31:53.181114Z",
     "start_time": "2020-03-30T10:31:53.030329Z"
    }
   },
   "outputs": [
    {
     "data": {
      "image/png": "[encoded data removed]",
      "text/plain": [
       "<Figure size 216x288 with 1 Axes>"
      ]
     },
     "metadata": {
      "needs_background": "light"
     },
     "output_type": "display_data"
    }
   ],
   "source": [
    "s_ca2.plot_binned_counts(figsize=(3, 4), show_legend=False, spectra=main_fig_spectrum,\n",
    "                              colours=[calcium_observed_colour, calcium_expected_colour])\n",
    "hide_top_and_right_axes()\n",
    "plt.title('')\n",
    "plt.xticks(plt.gca().get_xticks(), ['False', 'True'])\n",
    "plt.xlabel('Calcium binding')\n",
    "plt.subplots_adjust(left=0.3, bottom=0.3, right=1, top=1)\n",
    "plt.savefig(os.path.join(plot_directory, 'bar_ca2_efg11_12.pdf'), transparent=True)"
   ]
  },
  {
   "cell_type": "code",
   "execution_count": 41,
   "metadata": {
    "ExecuteTime": {
     "end_time": "2020-03-30T10:31:53.188495Z",
     "start_time": "2020-03-30T10:31:53.184024Z"
    }
   },
   "outputs": [],
   "source": [
    "s_ca2_results = s_ca2.get_results_dictionary()"
   ]
  },
  {
   "cell_type": "code",
   "execution_count": 42,
   "metadata": {
    "ExecuteTime": {
     "end_time": "2020-03-30T10:31:53.197670Z",
     "start_time": "2020-03-30T10:31:53.191708Z"
    }
   },
   "outputs": [
    {
     "data": {
      "text/plain": [
       "5"
      ]
     },
     "execution_count": 42,
     "metadata": {},
     "output_type": "execute_result"
    }
   ],
   "source": [
    "s_ca2_results['num_mutations']"
   ]
  },
  {
   "cell_type": "code",
   "execution_count": 43,
   "metadata": {
    "ExecuteTime": {
     "end_time": "2020-03-30T10:31:53.207226Z",
     "start_time": "2020-03-30T10:31:53.200327Z"
    }
   },
   "outputs": [
    {
     "data": {
      "text/plain": [
       "0.05307946920530795"
      ]
     },
     "execution_count": 43,
     "metadata": {},
     "output_type": "execute_result"
    }
   ],
   "source": [
    "s_ca2_results['CDF_perm__pvalue']  # P-value of permutation test"
   ]
  },
  {
   "cell_type": "markdown",
   "metadata": {},
   "source": [
    "# Testing for interface or calcium binding"
   ]
  },
  {
   "cell_type": "markdown",
   "metadata": {},
   "source": [
    "The numbers are very low for mutations that are exclusively in one of these two categories.    \n",
    "We can increase the power by including both categories together.  \n",
    "This will increase the sample size to more than just the sum of the two cases, since we can now include mutations that both calcium binding and on the ligand interface.  \n",
    "The downside is that we cannot distinguish which feature is selected for, but the individual results show that there is a trend of selection in both cases, even if not significant.  "
   ]
  },
  {
   "cell_type": "code",
   "execution_count": 44,
   "metadata": {
    "ExecuteTime": {
     "end_time": "2020-03-30T10:31:53.214062Z",
     "start_time": "2020-03-30T10:31:53.210083Z"
    }
   },
   "outputs": [],
   "source": [
    "# Define the combined lookup.\n",
    "excllook_interface_or_ca = MutationExclusionLookup(\n",
    "    lookup=interface_or_ca_lookup,   # True if either on the interface or calcium binding\n",
    "    exclusion_lookup=fold,   # Use the foldX lookup to exlcude mutations that have large ∆∆G values \n",
    "    exclusion_threshold=2,  #  Exclude destabilising mutations with ∆∆G > 2kcal/mol\n",
    "    exclusion_direction=1,   # Exclude mutations with a score above the exclusion_threshold from the exclusion_lookup.\n",
    "    name=\"On interface or calcium binding\"\n",
    ")"
   ]
  },
  {
   "cell_type": "code",
   "execution_count": 45,
   "metadata": {
    "ExecuteTime": {
     "end_time": "2020-03-30T10:31:53.225413Z",
     "start_time": "2020-03-30T10:31:53.217312Z"
    }
   },
   "outputs": [],
   "source": [
    "d_int_or_ca = d.change_lookup(excllook_interface_or_ca)"
   ]
  },
  {
   "cell_type": "code",
   "execution_count": 46,
   "metadata": {
    "ExecuteTime": {
     "end_time": "2020-03-30T10:31:57.805324Z",
     "start_time": "2020-03-30T10:31:53.228493Z"
    }
   },
   "outputs": [],
   "source": [
    "s_int_or_ca = d_int_or_ca.run_section(section_definition_egf11_12)"
   ]
  },
  {
   "cell_type": "code",
   "execution_count": 47,
   "metadata": {
    "ExecuteTime": {
     "end_time": "2020-03-30T10:31:58.007563Z",
     "start_time": "2020-03-30T10:31:57.807792Z"
    }
   },
   "outputs": [
    {
     "data": {
      "image/png": "[encoded data removed]",
      "text/plain": [
       "<Figure size 432x216 with 1 Axes>"
      ]
     },
     "metadata": {
      "needs_background": "light"
     },
     "output_type": "display_data"
    }
   ],
   "source": [
    "s_int_or_ca.plot_scatter(figsize=(6, 3), show_legend=False, \n",
    "                  unobserved_mutation_colour=unobserved_colour, \n",
    "                   missense_mutation_colour=observed_colour,\n",
    "                  base_marker_size=15, unmutated_marker_size=15)\n",
    "plt.yticks([0, 1], ['False', 'True']);\n",
    "hide_top_and_right_axes()\n",
    "plt.tight_layout()\n",
    "plt.savefig(os.path.join(plot_directory, 'scatter_int_or_ca_efg11_12.pdf'), transparent=True)"
   ]
  },
  {
   "cell_type": "code",
   "execution_count": 48,
   "metadata": {
    "ExecuteTime": {
     "end_time": "2020-03-30T10:31:58.171905Z",
     "start_time": "2020-03-30T10:31:58.011781Z"
    }
   },
   "outputs": [
    {
     "data": {
      "image/png": "[encoded data removed]",
      "text/plain": [
       "<Figure size 216x288 with 1 Axes>"
      ]
     },
     "metadata": {
      "needs_background": "light"
     },
     "output_type": "display_data"
    }
   ],
   "source": [
    "s_int_or_ca.plot_binned_counts(figsize=(3, 4), show_legend=False, spectra=main_fig_spectrum,\n",
    "                              colours=[observed_colour, unobserved_colour])\n",
    "hide_top_and_right_axes()\n",
    "plt.title('')\n",
    "plt.xticks(plt.gca().get_xticks(), ['False', 'True'])\n",
    "plt.xlabel('Interface or calcium binding')\n",
    "plt.subplots_adjust(left=0.3, bottom=0.3, right=1, top=1)\n",
    "plt.savefig(os.path.join(plot_directory, 'bar_int_or_ca_efg11_12.pdf'), transparent=True)"
   ]
  },
  {
   "cell_type": "code",
   "execution_count": 49,
   "metadata": {
    "ExecuteTime": {
     "end_time": "2020-03-30T10:31:58.181089Z",
     "start_time": "2020-03-30T10:31:58.177004Z"
    }
   },
   "outputs": [],
   "source": [
    "s_int_or_ca_results = s_int_or_ca.get_results_dictionary()"
   ]
  },
  {
   "cell_type": "code",
   "execution_count": 50,
   "metadata": {
    "ExecuteTime": {
     "end_time": "2020-03-30T10:31:58.191274Z",
     "start_time": "2020-03-30T10:31:58.184717Z"
    }
   },
   "outputs": [
    {
     "data": {
      "text/plain": [
       "13"
      ]
     },
     "execution_count": 50,
     "metadata": {},
     "output_type": "execute_result"
    }
   ],
   "source": [
    "s_int_or_ca_results['num_mutations']"
   ]
  },
  {
   "cell_type": "code",
   "execution_count": 51,
   "metadata": {
    "ExecuteTime": {
     "end_time": "2020-03-30T10:31:58.213893Z",
     "start_time": "2020-03-30T10:31:58.202752Z"
    }
   },
   "outputs": [
    {
     "data": {
      "text/plain": [
       "0.001979980200197998"
      ]
     },
     "execution_count": 51,
     "metadata": {},
     "output_type": "execute_result"
    }
   ],
   "source": [
    "s_int_or_ca_results['CDF_perm__pvalue']  # P-value of permutation test"
   ]
  },
  {
   "cell_type": "markdown",
   "metadata": {},
   "source": [
    "# Mutation categories"
   ]
  },
  {
   "cell_type": "code",
   "execution_count": 52,
   "metadata": {
    "ExecuteTime": {
     "end_time": "2020-03-30T10:31:58.226235Z",
     "start_time": "2020-03-30T10:31:58.216925Z"
    }
   },
   "outputs": [],
   "source": [
    "target_selection_string = 'protein and segid A and resid {} and name CA'.format(\n",
    "    \" \".join([str(int(p)) for p in section_definition_egf11_12['interface_residues']]))\n",
    "section_definition_egf11_12['interface_residues_3D'] = target_selection_string\n",
    "\n",
    "\n",
    "# Define the lookup that measure the distance in the structure from these selected residues\n",
    "interface_lookup3D = StructureDistanceLookup(\n",
    "    boolean=False,  # This time we use the distance\n",
    "    target_key='interface_residues_3D', \n",
    "    name='Distance from interface residues (A)',\n",
    "    \n",
    "    # Uses the pdb file and SIFTS. Provide paths to directories including those files.\n",
    "    pdb_directory=pdb_directory,\n",
    "    sifts_directory=sifts_directory, \n",
    "    download_sifts=True   # Download the SIFTS file if not already in the directory\n",
    "\n",
    ")"
   ]
  },
  {
   "cell_type": "code",
   "execution_count": 53,
   "metadata": {
    "ExecuteTime": {
     "end_time": "2020-03-30T10:32:02.271065Z",
     "start_time": "2020-03-30T10:31:58.229597Z"
    }
   },
   "outputs": [
    {
     "name": "stderr",
     "output_type": "stream",
     "text": [
      "/Users/mh28/miniconda3/envs/ds/lib/python3.7/site-packages/scipy/stats/stats.py:5048: RuntimeWarning: invalid value encountered in true_divide\n",
      "  terms = (f_obs - f_exp)**2 / f_exp\n"
     ]
    }
   ],
   "source": [
    "d_interface3D = d.change_lookup(interface_lookup3D)\n",
    "s_interface3D = d_interface3D.run_section(section_definition_egf11_12)"
   ]
  },
  {
   "cell_type": "code",
   "execution_count": 54,
   "metadata": {
    "ExecuteTime": {
     "end_time": "2020-03-30T10:32:05.598233Z",
     "start_time": "2020-03-30T10:32:02.272941Z"
    }
   },
   "outputs": [],
   "source": [
    "d_ca_all = d.change_lookup(ca_lookup)\n",
    "s_ca_all = d_ca_all.run_section(section_definition_egf11_12, statistics=[cdf_perm])"
   ]
  },
  {
   "cell_type": "code",
   "execution_count": 55,
   "metadata": {
    "ExecuteTime": {
     "end_time": "2020-03-30T10:32:08.791392Z",
     "start_time": "2020-03-30T10:32:05.600023Z"
    }
   },
   "outputs": [],
   "source": [
    "d_interface_all = d.change_lookup(interface_lookup)\n",
    "s_interface_all = d_interface_all.run_section(section_definition_egf11_12, statistics=[cdf_perm])"
   ]
  },
  {
   "cell_type": "code",
   "execution_count": 56,
   "metadata": {
    "ExecuteTime": {
     "end_time": "2020-03-30T10:32:09.248785Z",
     "start_time": "2020-03-30T10:32:08.793494Z"
    }
   },
   "outputs": [
    {
     "data": {
      "image/png": "[encoded data removed]",
      "text/plain": [
       "<Figure size 288x288 with 1 Axes>"
      ]
     },
     "metadata": {
      "needs_background": "light"
     },
     "output_type": "display_data"
    }
   ],
   "source": [
    "plot_scatter_two_scores(s_interface3D, s_fold_all, \n",
    "                        sections_for_colours=[s_fold_all, s_interface3D, s_ca_all], \n",
    "                        score_regions_for_colours=[[2, 100], [-1, 0.1], [0.9,1.1]],\n",
    "                        score_region_colours=[foldx_observed_colour, interface_observed_colour, calcium_observed_colour],\n",
    "                        unobserved_mutation_colour=unobserved_colour, \n",
    "                        missense_mutation_colour=observed_colour,\n",
    "                        plot_yscale='symlog', show_legend=False, figsize=(4, 4), unmutated_marker_size=15,\n",
    "                        base_marker_size=20, annotate_mutations=False, annotate_xregion=[2, 10],\n",
    "                            annotate_yregion=[-10000, 1.5], annotate_min_count=3, annotate_column='aachange',\n",
    "                            annotation_offset=(-1.6, 0))\n",
    "hide_top_and_right_axes()\n",
    "plt.tight_layout()\n",
    "plt.savefig(os.path.join(plot_directory, 'foldX_vs_interface_distance_notch2.pdf'), transparent=True)"
   ]
  },
  {
   "cell_type": "code",
   "execution_count": null,
   "metadata": {},
   "outputs": [],
   "source": []
  }
 ],
 "metadata": {
  "kernelspec": {
   "display_name": "Python 3",
   "language": "python",
   "name": "python3"
  },
  "language_info": {
   "codemirror_mode": {
    "name": "ipython",
    "version": 3
   },
   "file_extension": ".py",
   "mimetype": "text/x-python",
   "name": "python",
   "nbconvert_exporter": "python",
   "pygments_lexer": "ipython3",
   "version": "3.7.3"
  },
  "notify_time": "10"
 },
 "nbformat": 4,
 "nbformat_minor": 2
}
